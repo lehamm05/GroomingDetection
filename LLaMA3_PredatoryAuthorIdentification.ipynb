{
 "cells": [
  {
   "cell_type": "markdown",
   "id": "93b6f655",
   "metadata": {},
   "source": [
    "## Load data"
   ]
  },
  {
   "cell_type": "code",
   "execution_count": 1,
   "id": "afc71642",
   "metadata": {},
   "outputs": [],
   "source": [
    "# import important libraries\n",
    "import xml.etree.ElementTree as ET\n",
    "import re\n",
    "import pandas as pd\n",
    "import os\n",
    "import html"
   ]
  },
  {
   "cell_type": "code",
   "execution_count": 2,
   "id": "342dfb5f",
   "metadata": {},
   "outputs": [],
   "source": [
    "# clean up text\n",
    "def clean_text(text):\n",
    "    if text is None:\n",
    "        return \"\"\n",
    "    # remove HTML encodings\n",
    "    text = html.unescape(text)\n",
    "    text = re.sub(r'<.*?>', '', text)  # remove HTML tags\n",
    "    text = re.sub(r'http\\S+', '', text)  # remove URLs\n",
    "    text = re.sub(r'\\s+', ' ', text)  # remove extra spaces\n",
    "    return text.strip().lower()"
   ]
  },
  {
   "cell_type": "code",
   "execution_count": 3,
   "id": "4e28af0e",
   "metadata": {},
   "outputs": [],
   "source": [
    "# parse xml file\n",
    "def parse_xml(xml_file):\n",
    "    tree = ET.parse(xml_file)\n",
    "    root = tree.getroot()\n",
    "\n",
    "    data = []\n",
    "\n",
    "    # iterate through each conversation\n",
    "    for conversation in root.findall('conversation'):\n",
    "        conversation_id = conversation.get('id')\n",
    "        \n",
    "        # iterate through each message\n",
    "        for message in conversation.findall('message'):\n",
    "            line = message.get('line')\n",
    "            author = message.find('author').text\n",
    "            time = message.find('time').text\n",
    "            text = message.find('text').text\n",
    "\n",
    "            # clean the text\n",
    "            cleaned_text = clean_text(text)\n",
    "            \n",
    "            # store as dictionary\n",
    "            data.append({\n",
    "                'conversation_id': conversation_id,\n",
    "                'line': line,\n",
    "                'author': author,\n",
    "                'time': time,\n",
    "                'text': cleaned_text\n",
    "            })\n",
    "    \n",
    "    # convert to a DataFrame\n",
    "    df = pd.DataFrame(data)\n",
    "    return df"
   ]
  },
  {
   "cell_type": "code",
   "execution_count": 47,
   "id": "5e37a5b9",
   "metadata": {},
   "outputs": [],
   "source": [
    "# load train file\n",
    "xml_file = 'PAN12/pan12-sexual-predator-identification-training-corpus-2012-05-01.xml'\n",
    "train_df = parse_xml(xml_file)"
   ]
  },
  {
   "cell_type": "code",
   "execution_count": 48,
   "id": "abc31467",
   "metadata": {},
   "outputs": [],
   "source": [
    "# load test file\n",
    "xml_file = 'PAN12/pan12-sexual-predator-identification-test-corpus-2012-05-17.xml'\n",
    "test_df = parse_xml(xml_file)"
   ]
  },
  {
   "cell_type": "code",
   "execution_count": 49,
   "id": "d02c7176",
   "metadata": {},
   "outputs": [],
   "source": [
    "# function to load the identified groomers\n",
    "def load_groomers(file_path):\n",
    "    with open(file_path, 'r') as f:\n",
    "        positive_authors = set([line.strip() for line in f])\n",
    "    return positive_authors"
   ]
  },
  {
   "cell_type": "code",
   "execution_count": 50,
   "id": "c8d03151",
   "metadata": {},
   "outputs": [],
   "source": [
    "# load training groomers\n",
    "training_groomers = \"PAN12/pan12-sexual-predator-identification-training-corpus-predators-2012-05-01.txt\"\n",
    "train_groomers = load_groomers(training_groomers)\n",
    "# load testing groomers\n",
    "testing_groomers = \"PAN12/pan12-sexual-predator-identification-groundtruth-problem1.txt\"\n",
    "test_groomers = load_groomers(testing_groomers)"
   ]
  },
  {
   "cell_type": "code",
   "execution_count": 51,
   "id": "688903e1",
   "metadata": {},
   "outputs": [
    {
     "data": {
      "text/html": [
       "<div>\n",
       "<style scoped>\n",
       "    .dataframe tbody tr th:only-of-type {\n",
       "        vertical-align: middle;\n",
       "    }\n",
       "\n",
       "    .dataframe tbody tr th {\n",
       "        vertical-align: top;\n",
       "    }\n",
       "\n",
       "    .dataframe thead th {\n",
       "        text-align: right;\n",
       "    }\n",
       "</style>\n",
       "<table border=\"1\" class=\"dataframe\">\n",
       "  <thead>\n",
       "    <tr style=\"text-align: right;\">\n",
       "      <th></th>\n",
       "      <th>conversation_id</th>\n",
       "      <th>author</th>\n",
       "      <th>text</th>\n",
       "    </tr>\n",
       "  </thead>\n",
       "  <tbody>\n",
       "    <tr>\n",
       "      <th>0</th>\n",
       "      <td>0000604306a283600b730276a2039471</td>\n",
       "      <td>9fdcde97c1cb33fe4e9f6aab1d84bc76</td>\n",
       "      <td>e3fb62ebfa4f36acf5cbff6a6ed0f2e0: can i have y...</td>\n",
       "    </tr>\n",
       "    <tr>\n",
       "      <th>1</th>\n",
       "      <td>0000604306a283600b730276a2039471</td>\n",
       "      <td>a9b326df4e6da61c5b6f5e1058be83a2</td>\n",
       "      <td>b8810fee2f4a71f849f3f7409546d1d9 - do you have...</td>\n",
       "    </tr>\n",
       "    <tr>\n",
       "      <th>2</th>\n",
       "      <td>0000604306a283600b730276a2039471</td>\n",
       "      <td>b8810fee2f4a71f849f3f7409546d1d9</td>\n",
       "      <td>a9b326df4e6da61c5b6f5e1058be83a2: there are so...</td>\n",
       "    </tr>\n",
       "    <tr>\n",
       "      <th>3</th>\n",
       "      <td>0000604306a283600b730276a2039471</td>\n",
       "      <td>e3fb62ebfa4f36acf5cbff6a6ed0f2e0</td>\n",
       "      <td>\"sean fraser posted this on january 22, 2007 0...</td>\n",
       "    </tr>\n",
       "    <tr>\n",
       "      <th>4</th>\n",
       "      <td>0001347c00d419eb537c0692e6e58eba</td>\n",
       "      <td>67952953f11f8800aa8296b1457d2c01</td>\n",
       "      <td>asl</td>\n",
       "    </tr>\n",
       "    <tr>\n",
       "      <th>...</th>\n",
       "      <td>...</td>\n",
       "      <td>...</td>\n",
       "      <td>...</td>\n",
       "    </tr>\n",
       "    <tr>\n",
       "      <th>152869</th>\n",
       "      <td>ffffe01fc5b03a8d6b8c929d595644d9</td>\n",
       "      <td>24340ef160b44f4e9d826263c6dd3188</td>\n",
       "      <td>jamesd: i thought you needed \"mash\". karrot-x:...</td>\n",
       "    </tr>\n",
       "    <tr>\n",
       "      <th>152870</th>\n",
       "      <td>ffffe01fc5b03a8d6b8c929d595644d9</td>\n",
       "      <td>7ef291c89ad915978b203d427919cfbb</td>\n",
       "      <td>man where the hell is the eggs, bangers are he...</td>\n",
       "    </tr>\n",
       "    <tr>\n",
       "      <th>152871</th>\n",
       "      <td>ffffe01fc5b03a8d6b8c929d595644d9</td>\n",
       "      <td>8a2ec3d80a45ba71f61da6da97613e11</td>\n",
       "      <td>ya</td>\n",
       "    </tr>\n",
       "    <tr>\n",
       "      <th>152872</th>\n",
       "      <td>ffffe01fc5b03a8d6b8c929d595644d9</td>\n",
       "      <td>8cd806e5c7f4f95937df692d3b8a3554</td>\n",
       "      <td>goops god damnit i hate cpan cpan is the bigge...</td>\n",
       "    </tr>\n",
       "    <tr>\n",
       "      <th>152873</th>\n",
       "      <td>ffffe01fc5b03a8d6b8c929d595644d9</td>\n",
       "      <td>a5b6dda9425e1d67e37432b48db51a57</td>\n",
       "      <td>anyone familiar with a t2000? im having a prob...</td>\n",
       "    </tr>\n",
       "  </tbody>\n",
       "</table>\n",
       "<p>152874 rows × 3 columns</p>\n",
       "</div>"
      ],
      "text/plain": [
       "                         conversation_id                            author  \\\n",
       "0       0000604306a283600b730276a2039471  9fdcde97c1cb33fe4e9f6aab1d84bc76   \n",
       "1       0000604306a283600b730276a2039471  a9b326df4e6da61c5b6f5e1058be83a2   \n",
       "2       0000604306a283600b730276a2039471  b8810fee2f4a71f849f3f7409546d1d9   \n",
       "3       0000604306a283600b730276a2039471  e3fb62ebfa4f36acf5cbff6a6ed0f2e0   \n",
       "4       0001347c00d419eb537c0692e6e58eba  67952953f11f8800aa8296b1457d2c01   \n",
       "...                                  ...                               ...   \n",
       "152869  ffffe01fc5b03a8d6b8c929d595644d9  24340ef160b44f4e9d826263c6dd3188   \n",
       "152870  ffffe01fc5b03a8d6b8c929d595644d9  7ef291c89ad915978b203d427919cfbb   \n",
       "152871  ffffe01fc5b03a8d6b8c929d595644d9  8a2ec3d80a45ba71f61da6da97613e11   \n",
       "152872  ffffe01fc5b03a8d6b8c929d595644d9  8cd806e5c7f4f95937df692d3b8a3554   \n",
       "152873  ffffe01fc5b03a8d6b8c929d595644d9  a5b6dda9425e1d67e37432b48db51a57   \n",
       "\n",
       "                                                     text  \n",
       "0       e3fb62ebfa4f36acf5cbff6a6ed0f2e0: can i have y...  \n",
       "1       b8810fee2f4a71f849f3f7409546d1d9 - do you have...  \n",
       "2       a9b326df4e6da61c5b6f5e1058be83a2: there are so...  \n",
       "3       \"sean fraser posted this on january 22, 2007 0...  \n",
       "4                                                     asl  \n",
       "...                                                   ...  \n",
       "152869  jamesd: i thought you needed \"mash\". karrot-x:...  \n",
       "152870  man where the hell is the eggs, bangers are he...  \n",
       "152871                                                 ya  \n",
       "152872  goops god damnit i hate cpan cpan is the bigge...  \n",
       "152873  anyone familiar with a t2000? im having a prob...  \n",
       "\n",
       "[152874 rows x 3 columns]"
      ]
     },
     "execution_count": 51,
     "metadata": {},
     "output_type": "execute_result"
    }
   ],
   "source": [
    "grouped_train_df = (\n",
    "    train_df.groupby([\"conversation_id\", \"author\"])\n",
    "    .agg({\n",
    "        \"text\": lambda x: \" \".join(x),  # Combine texts into a single string\n",
    "    })  # Combine texts into a string for each group\n",
    "    .reset_index()  # Reset the index for a clean output\n",
    ")\n",
    "grouped_train_df"
   ]
  },
  {
   "cell_type": "code",
   "execution_count": 52,
   "id": "5cef49ed",
   "metadata": {},
   "outputs": [
    {
     "data": {
      "text/html": [
       "<div>\n",
       "<style scoped>\n",
       "    .dataframe tbody tr th:only-of-type {\n",
       "        vertical-align: middle;\n",
       "    }\n",
       "\n",
       "    .dataframe tbody tr th {\n",
       "        vertical-align: top;\n",
       "    }\n",
       "\n",
       "    .dataframe thead th {\n",
       "        text-align: right;\n",
       "    }\n",
       "</style>\n",
       "<table border=\"1\" class=\"dataframe\">\n",
       "  <thead>\n",
       "    <tr style=\"text-align: right;\">\n",
       "      <th></th>\n",
       "      <th>conversation_id</th>\n",
       "      <th>author</th>\n",
       "      <th>text</th>\n",
       "    </tr>\n",
       "  </thead>\n",
       "  <tbody>\n",
       "    <tr>\n",
       "      <th>0</th>\n",
       "      <td>000049c4530615e68b898b3e0306630d</td>\n",
       "      <td>1c8edb8bfd4b3f9ec565192af6162909</td>\n",
       "      <td>hi fr?</td>\n",
       "    </tr>\n",
       "    <tr>\n",
       "      <th>1</th>\n",
       "      <td>000049c4530615e68b898b3e0306630d</td>\n",
       "      <td>53a66119381d887197c67ccfe3ef6670</td>\n",
       "      <td>hi</td>\n",
       "    </tr>\n",
       "    <tr>\n",
       "      <th>2</th>\n",
       "      <td>000133dbd971ffb8f723fc61ba977ca0</td>\n",
       "      <td>3b8f9119e773f37c4a2040c8e0c3d3da</td>\n",
       "      <td>heyy</td>\n",
       "    </tr>\n",
       "    <tr>\n",
       "      <th>3</th>\n",
       "      <td>000133dbd971ffb8f723fc61ba977ca0</td>\n",
       "      <td>8f1d151f40bd785177dec682f5407c4e</td>\n",
       "      <td>hey hej din fjant</td>\n",
       "    </tr>\n",
       "    <tr>\n",
       "      <th>4</th>\n",
       "      <td>000161e288cf8dfc468fe86d6d4af2d4</td>\n",
       "      <td>9804dc98b4ca58d3799c805cf476919a</td>\n",
       "      <td>heeeyy asl ?</td>\n",
       "    </tr>\n",
       "    <tr>\n",
       "      <th>...</th>\n",
       "      <td>...</td>\n",
       "      <td>...</td>\n",
       "      <td>...</td>\n",
       "    </tr>\n",
       "    <tr>\n",
       "      <th>355562</th>\n",
       "      <td>fffe4d1b08952afb8627a9b594f913c7</td>\n",
       "      <td>f8e350fc2fe58fa245fcd04eefb406c5</td>\n",
       "      <td>hallo hi where are you from? no, i'm not a per...</td>\n",
       "    </tr>\n",
       "    <tr>\n",
       "      <th>355563</th>\n",
       "      <td>ffff2d0e314610b1df596482d806ada9</td>\n",
       "      <td>3dc4d61ed4ad210bfbc90ce935a75b46</td>\n",
       "      <td>sure.. with what? nope sry idk a thing about g...</td>\n",
       "    </tr>\n",
       "    <tr>\n",
       "      <th>355564</th>\n",
       "      <td>ffff2d0e314610b1df596482d806ada9</td>\n",
       "      <td>eccc65c89e622a83cfec5827c16391de</td>\n",
       "      <td>haiiiiiiiii. can you help me? ): can you read ...</td>\n",
       "    </tr>\n",
       "    <tr>\n",
       "      <th>355565</th>\n",
       "      <td>ffff74f40b58182a2521235b9db901d4</td>\n",
       "      <td>169b210634b131ebcddc099eb64972a1</td>\n",
       "      <td>hi lookingfor girl? r u girl? what r u doing i...</td>\n",
       "    </tr>\n",
       "    <tr>\n",
       "      <th>355566</th>\n",
       "      <td>ffff74f40b58182a2521235b9db901d4</td>\n",
       "      <td>7bc167d759d9c56d43d1d46575433d35</td>\n",
       "      <td>hey yes u? ????????? i have big tit wow cool a...</td>\n",
       "    </tr>\n",
       "  </tbody>\n",
       "</table>\n",
       "<p>355567 rows × 3 columns</p>\n",
       "</div>"
      ],
      "text/plain": [
       "                         conversation_id                            author  \\\n",
       "0       000049c4530615e68b898b3e0306630d  1c8edb8bfd4b3f9ec565192af6162909   \n",
       "1       000049c4530615e68b898b3e0306630d  53a66119381d887197c67ccfe3ef6670   \n",
       "2       000133dbd971ffb8f723fc61ba977ca0  3b8f9119e773f37c4a2040c8e0c3d3da   \n",
       "3       000133dbd971ffb8f723fc61ba977ca0  8f1d151f40bd785177dec682f5407c4e   \n",
       "4       000161e288cf8dfc468fe86d6d4af2d4  9804dc98b4ca58d3799c805cf476919a   \n",
       "...                                  ...                               ...   \n",
       "355562  fffe4d1b08952afb8627a9b594f913c7  f8e350fc2fe58fa245fcd04eefb406c5   \n",
       "355563  ffff2d0e314610b1df596482d806ada9  3dc4d61ed4ad210bfbc90ce935a75b46   \n",
       "355564  ffff2d0e314610b1df596482d806ada9  eccc65c89e622a83cfec5827c16391de   \n",
       "355565  ffff74f40b58182a2521235b9db901d4  169b210634b131ebcddc099eb64972a1   \n",
       "355566  ffff74f40b58182a2521235b9db901d4  7bc167d759d9c56d43d1d46575433d35   \n",
       "\n",
       "                                                     text  \n",
       "0                                                  hi fr?  \n",
       "1                                                      hi  \n",
       "2                                                    heyy  \n",
       "3                                       hey hej din fjant  \n",
       "4                                            heeeyy asl ?  \n",
       "...                                                   ...  \n",
       "355562  hallo hi where are you from? no, i'm not a per...  \n",
       "355563  sure.. with what? nope sry idk a thing about g...  \n",
       "355564  haiiiiiiiii. can you help me? ): can you read ...  \n",
       "355565  hi lookingfor girl? r u girl? what r u doing i...  \n",
       "355566  hey yes u? ????????? i have big tit wow cool a...  \n",
       "\n",
       "[355567 rows x 3 columns]"
      ]
     },
     "execution_count": 52,
     "metadata": {},
     "output_type": "execute_result"
    }
   ],
   "source": [
    "grouped_test_df = (\n",
    "    test_df.groupby([\"conversation_id\", \"author\"])\n",
    "    .agg({\n",
    "        \"text\": lambda x: \" \".join(x),  # Combine texts into a single string\n",
    "    })  # Combine texts into a string for each group\n",
    "    .reset_index()  # Reset the index for a clean output\n",
    ")\n",
    "grouped_test_df"
   ]
  },
  {
   "cell_type": "code",
   "execution_count": 53,
   "id": "90f27b8a",
   "metadata": {},
   "outputs": [],
   "source": [
    "# function to label grooming authors based on author IDs\n",
    "def label_authors(df, positive_authors):\n",
    "    df['label'] = df['author'].apply(lambda aid: 1 if aid in positive_authors else 0)\n",
    "    return df"
   ]
  },
  {
   "cell_type": "code",
   "execution_count": 54,
   "id": "ddb7659b",
   "metadata": {},
   "outputs": [],
   "source": [
    "train_df = label_authors(grouped_train_df, train_groomers)"
   ]
  },
  {
   "cell_type": "code",
   "execution_count": 55,
   "id": "83f5f1ab",
   "metadata": {},
   "outputs": [],
   "source": [
    "test_df = label_authors(grouped_test_df, test_groomers)"
   ]
  },
  {
   "cell_type": "code",
   "execution_count": 56,
   "id": "27f07317",
   "metadata": {},
   "outputs": [
    {
     "name": "stdout",
     "output_type": "stream",
     "text": [
      "Total training conversations: 66927\n"
     ]
    }
   ],
   "source": [
    "print('Total training conversations:', train_df['conversation_id'].nunique())"
   ]
  },
  {
   "cell_type": "code",
   "execution_count": 57,
   "id": "89f2e2e3",
   "metadata": {},
   "outputs": [
    {
     "data": {
      "text/html": [
       "<div>\n",
       "<style scoped>\n",
       "    .dataframe tbody tr th:only-of-type {\n",
       "        vertical-align: middle;\n",
       "    }\n",
       "\n",
       "    .dataframe tbody tr th {\n",
       "        vertical-align: top;\n",
       "    }\n",
       "\n",
       "    .dataframe thead th {\n",
       "        text-align: right;\n",
       "    }\n",
       "</style>\n",
       "<table border=\"1\" class=\"dataframe\">\n",
       "  <thead>\n",
       "    <tr style=\"text-align: right;\">\n",
       "      <th></th>\n",
       "      <th>conversation_id</th>\n",
       "      <th>author</th>\n",
       "      <th>text</th>\n",
       "      <th>label</th>\n",
       "    </tr>\n",
       "  </thead>\n",
       "  <tbody>\n",
       "    <tr>\n",
       "      <th>0</th>\n",
       "      <td>0000604306a283600b730276a2039471</td>\n",
       "      <td>9fdcde97c1cb33fe4e9f6aab1d84bc76</td>\n",
       "      <td>e3fb62ebfa4f36acf5cbff6a6ed0f2e0: can i have y...</td>\n",
       "      <td>0</td>\n",
       "    </tr>\n",
       "    <tr>\n",
       "      <th>1</th>\n",
       "      <td>0000604306a283600b730276a2039471</td>\n",
       "      <td>a9b326df4e6da61c5b6f5e1058be83a2</td>\n",
       "      <td>b8810fee2f4a71f849f3f7409546d1d9 - do you have...</td>\n",
       "      <td>0</td>\n",
       "    </tr>\n",
       "    <tr>\n",
       "      <th>2</th>\n",
       "      <td>0000604306a283600b730276a2039471</td>\n",
       "      <td>b8810fee2f4a71f849f3f7409546d1d9</td>\n",
       "      <td>a9b326df4e6da61c5b6f5e1058be83a2: there are so...</td>\n",
       "      <td>0</td>\n",
       "    </tr>\n",
       "    <tr>\n",
       "      <th>3</th>\n",
       "      <td>0000604306a283600b730276a2039471</td>\n",
       "      <td>e3fb62ebfa4f36acf5cbff6a6ed0f2e0</td>\n",
       "      <td>\"sean fraser posted this on january 22, 2007 0...</td>\n",
       "      <td>0</td>\n",
       "    </tr>\n",
       "    <tr>\n",
       "      <th>4</th>\n",
       "      <td>0001347c00d419eb537c0692e6e58eba</td>\n",
       "      <td>67952953f11f8800aa8296b1457d2c01</td>\n",
       "      <td>asl</td>\n",
       "      <td>0</td>\n",
       "    </tr>\n",
       "    <tr>\n",
       "      <th>...</th>\n",
       "      <td>...</td>\n",
       "      <td>...</td>\n",
       "      <td>...</td>\n",
       "      <td>...</td>\n",
       "    </tr>\n",
       "    <tr>\n",
       "      <th>152869</th>\n",
       "      <td>ffffe01fc5b03a8d6b8c929d595644d9</td>\n",
       "      <td>24340ef160b44f4e9d826263c6dd3188</td>\n",
       "      <td>jamesd: i thought you needed \"mash\". karrot-x:...</td>\n",
       "      <td>0</td>\n",
       "    </tr>\n",
       "    <tr>\n",
       "      <th>152870</th>\n",
       "      <td>ffffe01fc5b03a8d6b8c929d595644d9</td>\n",
       "      <td>7ef291c89ad915978b203d427919cfbb</td>\n",
       "      <td>man where the hell is the eggs, bangers are he...</td>\n",
       "      <td>0</td>\n",
       "    </tr>\n",
       "    <tr>\n",
       "      <th>152871</th>\n",
       "      <td>ffffe01fc5b03a8d6b8c929d595644d9</td>\n",
       "      <td>8a2ec3d80a45ba71f61da6da97613e11</td>\n",
       "      <td>ya</td>\n",
       "      <td>0</td>\n",
       "    </tr>\n",
       "    <tr>\n",
       "      <th>152872</th>\n",
       "      <td>ffffe01fc5b03a8d6b8c929d595644d9</td>\n",
       "      <td>8cd806e5c7f4f95937df692d3b8a3554</td>\n",
       "      <td>goops god damnit i hate cpan cpan is the bigge...</td>\n",
       "      <td>0</td>\n",
       "    </tr>\n",
       "    <tr>\n",
       "      <th>152873</th>\n",
       "      <td>ffffe01fc5b03a8d6b8c929d595644d9</td>\n",
       "      <td>a5b6dda9425e1d67e37432b48db51a57</td>\n",
       "      <td>anyone familiar with a t2000? im having a prob...</td>\n",
       "      <td>0</td>\n",
       "    </tr>\n",
       "  </tbody>\n",
       "</table>\n",
       "<p>152874 rows × 4 columns</p>\n",
       "</div>"
      ],
      "text/plain": [
       "                         conversation_id                            author  \\\n",
       "0       0000604306a283600b730276a2039471  9fdcde97c1cb33fe4e9f6aab1d84bc76   \n",
       "1       0000604306a283600b730276a2039471  a9b326df4e6da61c5b6f5e1058be83a2   \n",
       "2       0000604306a283600b730276a2039471  b8810fee2f4a71f849f3f7409546d1d9   \n",
       "3       0000604306a283600b730276a2039471  e3fb62ebfa4f36acf5cbff6a6ed0f2e0   \n",
       "4       0001347c00d419eb537c0692e6e58eba  67952953f11f8800aa8296b1457d2c01   \n",
       "...                                  ...                               ...   \n",
       "152869  ffffe01fc5b03a8d6b8c929d595644d9  24340ef160b44f4e9d826263c6dd3188   \n",
       "152870  ffffe01fc5b03a8d6b8c929d595644d9  7ef291c89ad915978b203d427919cfbb   \n",
       "152871  ffffe01fc5b03a8d6b8c929d595644d9  8a2ec3d80a45ba71f61da6da97613e11   \n",
       "152872  ffffe01fc5b03a8d6b8c929d595644d9  8cd806e5c7f4f95937df692d3b8a3554   \n",
       "152873  ffffe01fc5b03a8d6b8c929d595644d9  a5b6dda9425e1d67e37432b48db51a57   \n",
       "\n",
       "                                                     text  label  \n",
       "0       e3fb62ebfa4f36acf5cbff6a6ed0f2e0: can i have y...      0  \n",
       "1       b8810fee2f4a71f849f3f7409546d1d9 - do you have...      0  \n",
       "2       a9b326df4e6da61c5b6f5e1058be83a2: there are so...      0  \n",
       "3       \"sean fraser posted this on january 22, 2007 0...      0  \n",
       "4                                                     asl      0  \n",
       "...                                                   ...    ...  \n",
       "152869  jamesd: i thought you needed \"mash\". karrot-x:...      0  \n",
       "152870  man where the hell is the eggs, bangers are he...      0  \n",
       "152871                                                 ya      0  \n",
       "152872  goops god damnit i hate cpan cpan is the bigge...      0  \n",
       "152873  anyone familiar with a t2000? im having a prob...      0  \n",
       "\n",
       "[152874 rows x 4 columns]"
      ]
     },
     "execution_count": 57,
     "metadata": {},
     "output_type": "execute_result"
    }
   ],
   "source": [
    "train_df"
   ]
  },
  {
   "cell_type": "code",
   "execution_count": 58,
   "id": "b406355d",
   "metadata": {},
   "outputs": [
    {
     "data": {
      "text/html": [
       "<div>\n",
       "<style scoped>\n",
       "    .dataframe tbody tr th:only-of-type {\n",
       "        vertical-align: middle;\n",
       "    }\n",
       "\n",
       "    .dataframe tbody tr th {\n",
       "        vertical-align: top;\n",
       "    }\n",
       "\n",
       "    .dataframe thead th {\n",
       "        text-align: right;\n",
       "    }\n",
       "</style>\n",
       "<table border=\"1\" class=\"dataframe\">\n",
       "  <thead>\n",
       "    <tr style=\"text-align: right;\">\n",
       "      <th></th>\n",
       "      <th>conversation_id</th>\n",
       "      <th>author</th>\n",
       "      <th>text</th>\n",
       "      <th>label</th>\n",
       "    </tr>\n",
       "  </thead>\n",
       "  <tbody>\n",
       "    <tr>\n",
       "      <th>0</th>\n",
       "      <td>000049c4530615e68b898b3e0306630d</td>\n",
       "      <td>1c8edb8bfd4b3f9ec565192af6162909</td>\n",
       "      <td>hi fr?</td>\n",
       "      <td>0</td>\n",
       "    </tr>\n",
       "    <tr>\n",
       "      <th>1</th>\n",
       "      <td>000049c4530615e68b898b3e0306630d</td>\n",
       "      <td>53a66119381d887197c67ccfe3ef6670</td>\n",
       "      <td>hi</td>\n",
       "      <td>0</td>\n",
       "    </tr>\n",
       "    <tr>\n",
       "      <th>2</th>\n",
       "      <td>000133dbd971ffb8f723fc61ba977ca0</td>\n",
       "      <td>3b8f9119e773f37c4a2040c8e0c3d3da</td>\n",
       "      <td>heyy</td>\n",
       "      <td>0</td>\n",
       "    </tr>\n",
       "    <tr>\n",
       "      <th>3</th>\n",
       "      <td>000133dbd971ffb8f723fc61ba977ca0</td>\n",
       "      <td>8f1d151f40bd785177dec682f5407c4e</td>\n",
       "      <td>hey hej din fjant</td>\n",
       "      <td>0</td>\n",
       "    </tr>\n",
       "    <tr>\n",
       "      <th>4</th>\n",
       "      <td>000161e288cf8dfc468fe86d6d4af2d4</td>\n",
       "      <td>9804dc98b4ca58d3799c805cf476919a</td>\n",
       "      <td>heeeyy asl ?</td>\n",
       "      <td>0</td>\n",
       "    </tr>\n",
       "    <tr>\n",
       "      <th>...</th>\n",
       "      <td>...</td>\n",
       "      <td>...</td>\n",
       "      <td>...</td>\n",
       "      <td>...</td>\n",
       "    </tr>\n",
       "    <tr>\n",
       "      <th>355562</th>\n",
       "      <td>fffe4d1b08952afb8627a9b594f913c7</td>\n",
       "      <td>f8e350fc2fe58fa245fcd04eefb406c5</td>\n",
       "      <td>hallo hi where are you from? no, i'm not a per...</td>\n",
       "      <td>0</td>\n",
       "    </tr>\n",
       "    <tr>\n",
       "      <th>355563</th>\n",
       "      <td>ffff2d0e314610b1df596482d806ada9</td>\n",
       "      <td>3dc4d61ed4ad210bfbc90ce935a75b46</td>\n",
       "      <td>sure.. with what? nope sry idk a thing about g...</td>\n",
       "      <td>0</td>\n",
       "    </tr>\n",
       "    <tr>\n",
       "      <th>355564</th>\n",
       "      <td>ffff2d0e314610b1df596482d806ada9</td>\n",
       "      <td>eccc65c89e622a83cfec5827c16391de</td>\n",
       "      <td>haiiiiiiiii. can you help me? ): can you read ...</td>\n",
       "      <td>0</td>\n",
       "    </tr>\n",
       "    <tr>\n",
       "      <th>355565</th>\n",
       "      <td>ffff74f40b58182a2521235b9db901d4</td>\n",
       "      <td>169b210634b131ebcddc099eb64972a1</td>\n",
       "      <td>hi lookingfor girl? r u girl? what r u doing i...</td>\n",
       "      <td>0</td>\n",
       "    </tr>\n",
       "    <tr>\n",
       "      <th>355566</th>\n",
       "      <td>ffff74f40b58182a2521235b9db901d4</td>\n",
       "      <td>7bc167d759d9c56d43d1d46575433d35</td>\n",
       "      <td>hey yes u? ????????? i have big tit wow cool a...</td>\n",
       "      <td>0</td>\n",
       "    </tr>\n",
       "  </tbody>\n",
       "</table>\n",
       "<p>355567 rows × 4 columns</p>\n",
       "</div>"
      ],
      "text/plain": [
       "                         conversation_id                            author  \\\n",
       "0       000049c4530615e68b898b3e0306630d  1c8edb8bfd4b3f9ec565192af6162909   \n",
       "1       000049c4530615e68b898b3e0306630d  53a66119381d887197c67ccfe3ef6670   \n",
       "2       000133dbd971ffb8f723fc61ba977ca0  3b8f9119e773f37c4a2040c8e0c3d3da   \n",
       "3       000133dbd971ffb8f723fc61ba977ca0  8f1d151f40bd785177dec682f5407c4e   \n",
       "4       000161e288cf8dfc468fe86d6d4af2d4  9804dc98b4ca58d3799c805cf476919a   \n",
       "...                                  ...                               ...   \n",
       "355562  fffe4d1b08952afb8627a9b594f913c7  f8e350fc2fe58fa245fcd04eefb406c5   \n",
       "355563  ffff2d0e314610b1df596482d806ada9  3dc4d61ed4ad210bfbc90ce935a75b46   \n",
       "355564  ffff2d0e314610b1df596482d806ada9  eccc65c89e622a83cfec5827c16391de   \n",
       "355565  ffff74f40b58182a2521235b9db901d4  169b210634b131ebcddc099eb64972a1   \n",
       "355566  ffff74f40b58182a2521235b9db901d4  7bc167d759d9c56d43d1d46575433d35   \n",
       "\n",
       "                                                     text  label  \n",
       "0                                                  hi fr?      0  \n",
       "1                                                      hi      0  \n",
       "2                                                    heyy      0  \n",
       "3                                       hey hej din fjant      0  \n",
       "4                                            heeeyy asl ?      0  \n",
       "...                                                   ...    ...  \n",
       "355562  hallo hi where are you from? no, i'm not a per...      0  \n",
       "355563  sure.. with what? nope sry idk a thing about g...      0  \n",
       "355564  haiiiiiiiii. can you help me? ): can you read ...      0  \n",
       "355565  hi lookingfor girl? r u girl? what r u doing i...      0  \n",
       "355566  hey yes u? ????????? i have big tit wow cool a...      0  \n",
       "\n",
       "[355567 rows x 4 columns]"
      ]
     },
     "execution_count": 58,
     "metadata": {},
     "output_type": "execute_result"
    }
   ],
   "source": [
    "test_df"
   ]
  },
  {
   "cell_type": "markdown",
   "id": "764da58c",
   "metadata": {},
   "source": [
    "## LLama 3.2 1B Implementation "
   ]
  },
  {
   "cell_type": "code",
   "execution_count": 59,
   "id": "aac9f7c6",
   "metadata": {},
   "outputs": [
    {
     "name": "stdout",
     "output_type": "stream",
     "text": [
      "0.26.2\n"
     ]
    }
   ],
   "source": [
    "import huggingface_hub\n",
    "print(huggingface_hub.__version__)"
   ]
  },
  {
   "cell_type": "code",
   "execution_count": 60,
   "id": "9879c5cb",
   "metadata": {},
   "outputs": [],
   "source": [
    "# login to huggingface\n",
    "from huggingface_hub import login\n",
    "login(token=\"YOUR_HUGGINGFACE_TOKEN\")"
   ]
  },
  {
   "cell_type": "code",
   "execution_count": 61,
   "id": "11ae3e3b",
   "metadata": {},
   "outputs": [
    {
     "name": "stderr",
     "output_type": "stream",
     "text": [
      "Some weights of LlamaForSequenceClassification were not initialized from the model checkpoint at meta-llama/Llama-3.2-1B and are newly initialized: ['score.weight']\n",
      "You should probably TRAIN this model on a down-stream task to be able to use it for predictions and inference.\n"
     ]
    }
   ],
   "source": [
    "# load model with huggingface\n",
    "from transformers import AutoTokenizer, AutoModelForSequenceClassification\n",
    "tokenizer = AutoTokenizer.from_pretrained(\"meta-llama/Llama-3.2-1B\", token=\"YOUR_HUGGINGFACE_TOKEN\")\n",
    "model = AutoModelForSequenceClassification.from_pretrained(\"meta-llama/Llama-3.2-1B\", num_labels=2, token=\"YOUR_HUGGINGFACE_TOKEN\")"
   ]
  },
  {
   "cell_type": "code",
   "execution_count": 62,
   "id": "d451b1f8",
   "metadata": {},
   "outputs": [
    {
     "name": "stdout",
     "output_type": "stream",
     "text": [
      "CUDA Available: True\n",
      "CUDA Device Name: NVIDIA A100-SXM4-40GB\n"
     ]
    }
   ],
   "source": [
    "import torch\n",
    "\n",
    "# check if CUDA is available\n",
    "cuda_available = torch.cuda.is_available()\n",
    "\n",
    "print(\"CUDA Available:\", cuda_available)\n",
    "\n",
    "# print GPU name if CUDA available\n",
    "if cuda_available:\n",
    "    print(\"CUDA Device Name:\", torch.cuda.get_device_name(0))"
   ]
  },
  {
   "cell_type": "code",
   "execution_count": 63,
   "id": "23c1a13e",
   "metadata": {},
   "outputs": [
    {
     "name": "stdout",
     "output_type": "stream",
     "text": [
      "Model is loaded on device: cuda\n"
     ]
    }
   ],
   "source": [
    "device = torch.device(\"cuda\" if torch.cuda.is_available() else \"cpu\")\n",
    "model = model.to(device)\n",
    "print(f\"Model is loaded on device: {device}\")"
   ]
  },
  {
   "cell_type": "code",
   "execution_count": 64,
   "id": "9d23c2d2",
   "metadata": {},
   "outputs": [],
   "source": [
    "from datasets import Dataset\n",
    "\n",
    "train_df = Dataset.from_pandas(train_df[['text', 'label']])\n",
    "test_df = Dataset.from_pandas(test_df[['text', 'label']])"
   ]
  },
  {
   "cell_type": "code",
   "execution_count": 65,
   "id": "d043d009",
   "metadata": {},
   "outputs": [],
   "source": [
    "# define and add the padding token if it's not already defined\n",
    "if tokenizer.pad_token is None:\n",
    "    tokenizer.add_special_tokens({'pad_token': '[PAD]'})\n",
    "    model.resize_token_embeddings(len(tokenizer))"
   ]
  },
  {
   "cell_type": "code",
   "execution_count": 66,
   "id": "9b83f2f6",
   "metadata": {},
   "outputs": [
    {
     "name": "stderr",
     "output_type": "stream",
     "text": [
      "Map: 100%|██████████| 152874/152874 [00:22<00:00, 6682.82 examples/s]\n",
      "Map: 100%|██████████| 355567/355567 [00:55<00:00, 6422.94 examples/s]\n"
     ]
    }
   ],
   "source": [
    "# define tokenization function\n",
    "def tokenize_function(row):\n",
    "    return tokenizer(row['text'], padding = 'max_length', truncation=True, max_length = 64)\n",
    "\n",
    "# apply tokenization to all rows\n",
    "tokenized_train = train_df.map(tokenize_function, batched=True, batch_size = 16)\n",
    "tokenized_test = test_df.map(tokenize_function, batched=True, batch_size = 16)"
   ]
  },
  {
   "cell_type": "code",
   "execution_count": 67,
   "id": "906e1afe",
   "metadata": {},
   "outputs": [],
   "source": [
    "model.config.pad_token_id = tokenizer.pad_token_id"
   ]
  },
  {
   "cell_type": "code",
   "execution_count": 68,
   "id": "4b461d85",
   "metadata": {},
   "outputs": [
    {
     "data": {
      "text/plain": [
       "Dataset({\n",
       "    features: ['text', 'label', 'input_ids', 'attention_mask'],\n",
       "    num_rows: 152874\n",
       "})"
      ]
     },
     "execution_count": 68,
     "metadata": {},
     "output_type": "execute_result"
    }
   ],
   "source": [
    "tokenized_train"
   ]
  },
  {
   "cell_type": "code",
   "execution_count": 69,
   "id": "cdcc3943",
   "metadata": {},
   "outputs": [
    {
     "name": "stderr",
     "output_type": "stream",
     "text": [
      "huggingface/tokenizers: The current process just got forked, after parallelism has already been used. Disabling parallelism to avoid deadlocks...\n",
      "To disable this warning, you can either:\n",
      "\t- Avoid using `tokenizers` before the fork if possible\n",
      "\t- Explicitly set the environment variable TOKENIZERS_PARALLELISM=(true | false)\n"
     ]
    }
   ],
   "source": [
    "import torchvision.transforms\n",
    "from transformers import DataCollatorWithPadding\n",
    "from transformers import Trainer, TrainingArguments\n",
    "import evaluate\n",
    "import numpy as np\n",
    "\n",
    "# load metrics\n",
    "accuracy_metric = evaluate.load(\"accuracy\")\n",
    "precision_metric = evaluate.load(\"precision\")\n",
    "recall_metric = evaluate.load(\"recall\")\n",
    "f1_metric = evaluate.load(\"f1\")\n",
    "\n",
    "# define function to compute multiple metrics\n",
    "def compute_metrics(eval_pred):\n",
    "    logits, labels = eval_pred\n",
    "    predictions = np.argmax(logits, axis=-1)  # Get the predicted class\n",
    "\n",
    "    # calculate each metric individually\n",
    "    accuracy = accuracy_metric.compute(predictions=predictions, references=labels)\n",
    "    precision = precision_metric.compute(predictions=predictions, references=labels, average=\"weighted\")\n",
    "    recall = recall_metric.compute(predictions=predictions, references=labels, average=\"weighted\")\n",
    "    f1 = f1_metric.compute(predictions=predictions, references=labels, average=\"weighted\")\n",
    "    return {\n",
    "        \"accuracy\": accuracy[\"accuracy\"],\n",
    "        \"precision\": precision[\"precision\"],\n",
    "        \"recall\": recall[\"recall\"],\n",
    "        \"f1\": f1[\"f1\"]\n",
    "    }\n",
    "\n",
    "training_args = TrainingArguments(\n",
    "    output_dir='output',\n",
    "    eval_strategy='epoch',\n",
    "    learning_rate=5e-6,\n",
    "    logging_steps=50,\n",
    "    per_device_train_batch_size=32,\n",
    "    gradient_accumulation_steps=8,\n",
    "    per_device_eval_batch_size=32,\n",
    "    num_train_epochs=10,\n",
    "    weight_decay=0.01,\n",
    "    save_strategy=\"no\",   \n",
    ")\n",
    "\n",
    "# define collator\n",
    "data_collator = DataCollatorWithPadding(tokenizer=tokenizer)\n"
   ]
  },
  {
   "cell_type": "code",
   "execution_count": 70,
   "id": "59311b65",
   "metadata": {},
   "outputs": [
    {
     "name": "stderr",
     "output_type": "stream",
     "text": [
      "Detected kernel version 4.18.0, which is below the recommended minimum of 5.5.0; this can cause the process to hang. It is recommended to upgrade the kernel to the minimum version or higher.\n"
     ]
    }
   ],
   "source": [
    "trainer = Trainer(\n",
    "    model=model,\n",
    "    args=training_args,\n",
    "    train_dataset=tokenized_train,\n",
    "    eval_dataset=tokenized_test,\n",
    "    data_collator=data_collator,\n",
    "    compute_metrics=compute_metrics,  \n",
    ")"
   ]
  },
  {
   "cell_type": "code",
   "execution_count": 71,
   "id": "1f8e15b4",
   "metadata": {},
   "outputs": [
    {
     "name": "stderr",
     "output_type": "stream",
     "text": [
      "/cephyr/users/hamm/Alvis/.local/lib/python3.8/site-packages/torch/nn/parallel/_functions.py:68: UserWarning: Was asked to gather along dimension 0, but all input tensors were scalars; will instead unsqueeze and return a vector.\n",
      "  warnings.warn('Was asked to gather along dimension 0, but all '\n"
     ]
    },
    {
     "data": {
      "text/html": [
       "\n",
       "    <div>\n",
       "      \n",
       "      <progress value='1490' max='1490' style='width:300px; height:20px; vertical-align: middle;'></progress>\n",
       "      [1490/1490 4:48:36, Epoch 9/10]\n",
       "    </div>\n",
       "    <table border=\"1\" class=\"dataframe\">\n",
       "  <thead>\n",
       " <tr style=\"text-align: left;\">\n",
       "      <th>Epoch</th>\n",
       "      <th>Training Loss</th>\n",
       "      <th>Validation Loss</th>\n",
       "      <th>Accuracy</th>\n",
       "      <th>Precision</th>\n",
       "      <th>Recall</th>\n",
       "      <th>F1</th>\n",
       "    </tr>\n",
       "  </thead>\n",
       "  <tbody>\n",
       "    <tr>\n",
       "      <td>0</td>\n",
       "      <td>0.025000</td>\n",
       "      <td>0.026320</td>\n",
       "      <td>0.991667</td>\n",
       "      <td>0.990980</td>\n",
       "      <td>0.991667</td>\n",
       "      <td>0.989217</td>\n",
       "    </tr>\n",
       "    <tr>\n",
       "      <td>1</td>\n",
       "      <td>0.013400</td>\n",
       "      <td>0.026031</td>\n",
       "      <td>0.993666</td>\n",
       "      <td>0.993034</td>\n",
       "      <td>0.993666</td>\n",
       "      <td>0.993178</td>\n",
       "    </tr>\n",
       "    <tr>\n",
       "      <td>2</td>\n",
       "      <td>0.007000</td>\n",
       "      <td>0.031126</td>\n",
       "      <td>0.994029</td>\n",
       "      <td>0.993489</td>\n",
       "      <td>0.994029</td>\n",
       "      <td>0.993616</td>\n",
       "    </tr>\n",
       "    <tr>\n",
       "      <td>3</td>\n",
       "      <td>0.005800</td>\n",
       "      <td>0.034399</td>\n",
       "      <td>0.994167</td>\n",
       "      <td>0.993792</td>\n",
       "      <td>0.994167</td>\n",
       "      <td>0.993929</td>\n",
       "    </tr>\n",
       "    <tr>\n",
       "      <td>4</td>\n",
       "      <td>0.005700</td>\n",
       "      <td>0.042772</td>\n",
       "      <td>0.993723</td>\n",
       "      <td>0.993138</td>\n",
       "      <td>0.993723</td>\n",
       "      <td>0.993295</td>\n",
       "    </tr>\n",
       "    <tr>\n",
       "      <td>5</td>\n",
       "      <td>0.005400</td>\n",
       "      <td>0.047408</td>\n",
       "      <td>0.993821</td>\n",
       "      <td>0.993190</td>\n",
       "      <td>0.993821</td>\n",
       "      <td>0.993287</td>\n",
       "    </tr>\n",
       "    <tr>\n",
       "      <td>6</td>\n",
       "      <td>0.004900</td>\n",
       "      <td>0.054122</td>\n",
       "      <td>0.994178</td>\n",
       "      <td>0.993728</td>\n",
       "      <td>0.994178</td>\n",
       "      <td>0.993865</td>\n",
       "    </tr>\n",
       "    <tr>\n",
       "      <td>7</td>\n",
       "      <td>0.005200</td>\n",
       "      <td>0.058449</td>\n",
       "      <td>0.994026</td>\n",
       "      <td>0.993447</td>\n",
       "      <td>0.994026</td>\n",
       "      <td>0.993537</td>\n",
       "    </tr>\n",
       "    <tr>\n",
       "      <td>8</td>\n",
       "      <td>0.005100</td>\n",
       "      <td>0.061291</td>\n",
       "      <td>0.994066</td>\n",
       "      <td>0.993480</td>\n",
       "      <td>0.994066</td>\n",
       "      <td>0.993526</td>\n",
       "    </tr>\n",
       "    <tr>\n",
       "      <td>9</td>\n",
       "      <td>0.004400</td>\n",
       "      <td>0.061797</td>\n",
       "      <td>0.994001</td>\n",
       "      <td>0.993411</td>\n",
       "      <td>0.994001</td>\n",
       "      <td>0.993493</td>\n",
       "    </tr>\n",
       "  </tbody>\n",
       "</table><p>"
      ],
      "text/plain": [
       "<IPython.core.display.HTML object>"
      ]
     },
     "metadata": {},
     "output_type": "display_data"
    },
    {
     "name": "stderr",
     "output_type": "stream",
     "text": [
      "/cephyr/users/hamm/Alvis/.local/lib/python3.8/site-packages/torch/nn/parallel/_functions.py:68: UserWarning: Was asked to gather along dimension 0, but all input tensors were scalars; will instead unsqueeze and return a vector.\n",
      "  warnings.warn('Was asked to gather along dimension 0, but all '\n",
      "/cephyr/users/hamm/Alvis/.local/lib/python3.8/site-packages/torch/nn/parallel/_functions.py:68: UserWarning: Was asked to gather along dimension 0, but all input tensors were scalars; will instead unsqueeze and return a vector.\n",
      "  warnings.warn('Was asked to gather along dimension 0, but all '\n",
      "/cephyr/users/hamm/Alvis/.local/lib/python3.8/site-packages/torch/nn/parallel/_functions.py:68: UserWarning: Was asked to gather along dimension 0, but all input tensors were scalars; will instead unsqueeze and return a vector.\n",
      "  warnings.warn('Was asked to gather along dimension 0, but all '\n",
      "/cephyr/users/hamm/Alvis/.local/lib/python3.8/site-packages/torch/nn/parallel/_functions.py:68: UserWarning: Was asked to gather along dimension 0, but all input tensors were scalars; will instead unsqueeze and return a vector.\n",
      "  warnings.warn('Was asked to gather along dimension 0, but all '\n",
      "/cephyr/users/hamm/Alvis/.local/lib/python3.8/site-packages/torch/nn/parallel/_functions.py:68: UserWarning: Was asked to gather along dimension 0, but all input tensors were scalars; will instead unsqueeze and return a vector.\n",
      "  warnings.warn('Was asked to gather along dimension 0, but all '\n",
      "/cephyr/users/hamm/Alvis/.local/lib/python3.8/site-packages/torch/nn/parallel/_functions.py:68: UserWarning: Was asked to gather along dimension 0, but all input tensors were scalars; will instead unsqueeze and return a vector.\n",
      "  warnings.warn('Was asked to gather along dimension 0, but all '\n",
      "/cephyr/users/hamm/Alvis/.local/lib/python3.8/site-packages/torch/nn/parallel/_functions.py:68: UserWarning: Was asked to gather along dimension 0, but all input tensors were scalars; will instead unsqueeze and return a vector.\n",
      "  warnings.warn('Was asked to gather along dimension 0, but all '\n",
      "/cephyr/users/hamm/Alvis/.local/lib/python3.8/site-packages/torch/nn/parallel/_functions.py:68: UserWarning: Was asked to gather along dimension 0, but all input tensors were scalars; will instead unsqueeze and return a vector.\n",
      "  warnings.warn('Was asked to gather along dimension 0, but all '\n",
      "/cephyr/users/hamm/Alvis/.local/lib/python3.8/site-packages/torch/nn/parallel/_functions.py:68: UserWarning: Was asked to gather along dimension 0, but all input tensors were scalars; will instead unsqueeze and return a vector.\n",
      "  warnings.warn('Was asked to gather along dimension 0, but all '\n"
     ]
    },
    {
     "data": {
      "text/plain": [
       "TrainOutput(global_step=1490, training_loss=0.009828276752225504, metrics={'train_runtime': 17338.9909, 'train_samples_per_second': 88.168, 'train_steps_per_second': 0.086, 'total_flos': 5.701607659615027e+17, 'train_loss': 0.009828276752225504, 'epoch': 9.982426778242678})"
      ]
     },
     "execution_count": 71,
     "metadata": {},
     "output_type": "execute_result"
    }
   ],
   "source": [
    "# start training\n",
    "trainer.train()"
   ]
  },
  {
   "cell_type": "code",
   "execution_count": 72,
   "id": "0322a7b6",
   "metadata": {},
   "outputs": [
    {
     "name": "stderr",
     "output_type": "stream",
     "text": [
      "/cephyr/users/hamm/Alvis/.local/lib/python3.8/site-packages/torch/nn/parallel/_functions.py:68: UserWarning: Was asked to gather along dimension 0, but all input tensors were scalars; will instead unsqueeze and return a vector.\n",
      "  warnings.warn('Was asked to gather along dimension 0, but all '\n"
     ]
    },
    {
     "data": {
      "text/html": [
       "\n",
       "    <div>\n",
       "      \n",
       "      <progress value='2778' max='2778' style='width:300px; height:20px; vertical-align: middle;'></progress>\n",
       "      [2778/2778 13:01]\n",
       "    </div>\n",
       "    "
      ],
      "text/plain": [
       "<IPython.core.display.HTML object>"
      ]
     },
     "metadata": {},
     "output_type": "display_data"
    },
    {
     "name": "stdout",
     "output_type": "stream",
     "text": [
      "Evaluation results: {'eval_loss': 0.06179651990532875, 'eval_accuracy': 0.9940011305886092, 'eval_precision': 0.9934109866031126, 'eval_recall': 0.9940011305886092, 'eval_f1': 0.9934931022378706, 'eval_runtime': 788.3779, 'eval_samples_per_second': 451.011, 'eval_steps_per_second': 3.524, 'epoch': 9.982426778242678}\n"
     ]
    }
   ],
   "source": [
    "results = trainer.evaluate()\n",
    "print(\"Evaluation results:\", results)"
   ]
  }
 ],
 "metadata": {
  "kernelspec": {
   "display_name": "Python 3 (ipykernel)",
   "language": "python",
   "name": "python3"
  },
  "language_info": {
   "codemirror_mode": {
    "name": "ipython",
    "version": 3
   },
   "file_extension": ".py",
   "mimetype": "text/x-python",
   "name": "python",
   "nbconvert_exporter": "python",
   "pygments_lexer": "ipython3",
   "version": "3.8.10"
  }
 },
 "nbformat": 4,
 "nbformat_minor": 5
}
