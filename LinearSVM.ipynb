{
 "cells": [
  {
   "cell_type": "markdown",
   "id": "0620ff9e-de42-43cf-af36-36af9121eef2",
   "metadata": {},
   "source": [
    "## Load data"
   ]
  },
  {
   "cell_type": "code",
   "execution_count": 1,
   "id": "d58c0380-4033-4451-898f-c14f2a575365",
   "metadata": {},
   "outputs": [],
   "source": [
    "import pandas as pd"
   ]
  },
  {
   "cell_type": "code",
   "execution_count": 2,
   "id": "40b4d4f3-d7af-4f22-b112-236c1cf00bd8",
   "metadata": {},
   "outputs": [
    {
     "data": {
      "text/html": [
       "<div>\n",
       "<style scoped>\n",
       "    .dataframe tbody tr th:only-of-type {\n",
       "        vertical-align: middle;\n",
       "    }\n",
       "\n",
       "    .dataframe tbody tr th {\n",
       "        vertical-align: top;\n",
       "    }\n",
       "\n",
       "    .dataframe thead th {\n",
       "        text-align: right;\n",
       "    }\n",
       "</style>\n",
       "<table border=\"1\" class=\"dataframe\">\n",
       "  <thead>\n",
       "    <tr style=\"text-align: right;\">\n",
       "      <th></th>\n",
       "      <th>conversation_id</th>\n",
       "      <th>text</th>\n",
       "      <th>sentiment</th>\n",
       "      <th>label</th>\n",
       "    </tr>\n",
       "  </thead>\n",
       "  <tbody>\n",
       "    <tr>\n",
       "      <th>0</th>\n",
       "      <td>0000604306a283600b730276a2039471</td>\n",
       "      <td>a9b326df4e6da61c5b6f5e1058be83a2: b8810fee2f4a...</td>\n",
       "      <td>Negative</td>\n",
       "      <td>0</td>\n",
       "    </tr>\n",
       "    <tr>\n",
       "      <th>1</th>\n",
       "      <td>0001347c00d419eb537c0692e6e58eba</td>\n",
       "      <td>e2bd430b29412d9267886e187ba28075: say asl and ...</td>\n",
       "      <td>Positive</td>\n",
       "      <td>0</td>\n",
       "    </tr>\n",
       "    <tr>\n",
       "      <th>2</th>\n",
       "      <td>000197b21283dc47810760e499d1f8ec</td>\n",
       "      <td>487862cd4ec27d841e2d2e80e8d91955: joint 5c7c53...</td>\n",
       "      <td>Negative</td>\n",
       "      <td>0</td>\n",
       "    </tr>\n",
       "    <tr>\n",
       "      <th>3</th>\n",
       "      <td>0002de15312dc33d78b6e9e4b5f61f1f</td>\n",
       "      <td>a1a8f84c419e34a1a72625e2ef245516: hi a1a8f84c4...</td>\n",
       "      <td>Negative</td>\n",
       "      <td>0</td>\n",
       "    </tr>\n",
       "    <tr>\n",
       "      <th>4</th>\n",
       "      <td>0002ee38ac5e78e7edbc4d4a556ec4b7</td>\n",
       "      <td>8150320816528784d7dfe286d781de4c: hey :) male ...</td>\n",
       "      <td>Negative</td>\n",
       "      <td>0</td>\n",
       "    </tr>\n",
       "    <tr>\n",
       "      <th>...</th>\n",
       "      <td>...</td>\n",
       "      <td>...</td>\n",
       "      <td>...</td>\n",
       "      <td>...</td>\n",
       "    </tr>\n",
       "    <tr>\n",
       "      <th>160768</th>\n",
       "      <td>fffde018f39dafd4c8ef4ebaaadbec97</td>\n",
       "      <td>0a39f78bcb297ab0ebe8a29c28bfed89: bugmail: [bu...</td>\n",
       "      <td>Negative</td>\n",
       "      <td>0</td>\n",
       "    </tr>\n",
       "    <tr>\n",
       "      <th>160769</th>\n",
       "      <td>fffe4d1b08952afb8627a9b594f913c7</td>\n",
       "      <td>e5a96ed432ed5041be76d3fb1784fb95: do you want ...</td>\n",
       "      <td>Negative</td>\n",
       "      <td>0</td>\n",
       "    </tr>\n",
       "    <tr>\n",
       "      <th>160770</th>\n",
       "      <td>ffff2d0e314610b1df596482d806ada9</td>\n",
       "      <td>eccc65c89e622a83cfec5827c16391de: haiiiiiiiii....</td>\n",
       "      <td>Negative</td>\n",
       "      <td>0</td>\n",
       "    </tr>\n",
       "    <tr>\n",
       "      <th>160771</th>\n",
       "      <td>ffff74f40b58182a2521235b9db901d4</td>\n",
       "      <td>7bc167d759d9c56d43d1d46575433d35: hey 169b2106...</td>\n",
       "      <td>Positive</td>\n",
       "      <td>0</td>\n",
       "    </tr>\n",
       "    <tr>\n",
       "      <th>160772</th>\n",
       "      <td>ffffe01fc5b03a8d6b8c929d595644d9</td>\n",
       "      <td>a5b6dda9425e1d67e37432b48db51a57: anyone famil...</td>\n",
       "      <td>Negative</td>\n",
       "      <td>0</td>\n",
       "    </tr>\n",
       "  </tbody>\n",
       "</table>\n",
       "<p>160773 rows × 4 columns</p>\n",
       "</div>"
      ],
      "text/plain": [
       "                         conversation_id  \\\n",
       "0       0000604306a283600b730276a2039471   \n",
       "1       0001347c00d419eb537c0692e6e58eba   \n",
       "2       000197b21283dc47810760e499d1f8ec   \n",
       "3       0002de15312dc33d78b6e9e4b5f61f1f   \n",
       "4       0002ee38ac5e78e7edbc4d4a556ec4b7   \n",
       "...                                  ...   \n",
       "160768  fffde018f39dafd4c8ef4ebaaadbec97   \n",
       "160769  fffe4d1b08952afb8627a9b594f913c7   \n",
       "160770  ffff2d0e314610b1df596482d806ada9   \n",
       "160771  ffff74f40b58182a2521235b9db901d4   \n",
       "160772  ffffe01fc5b03a8d6b8c929d595644d9   \n",
       "\n",
       "                                                     text sentiment  label  \n",
       "0       a9b326df4e6da61c5b6f5e1058be83a2: b8810fee2f4a...  Negative      0  \n",
       "1       e2bd430b29412d9267886e187ba28075: say asl and ...  Positive      0  \n",
       "2       487862cd4ec27d841e2d2e80e8d91955: joint 5c7c53...  Negative      0  \n",
       "3       a1a8f84c419e34a1a72625e2ef245516: hi a1a8f84c4...  Negative      0  \n",
       "4       8150320816528784d7dfe286d781de4c: hey :) male ...  Negative      0  \n",
       "...                                                   ...       ...    ...  \n",
       "160768  0a39f78bcb297ab0ebe8a29c28bfed89: bugmail: [bu...  Negative      0  \n",
       "160769  e5a96ed432ed5041be76d3fb1784fb95: do you want ...  Negative      0  \n",
       "160770  eccc65c89e622a83cfec5827c16391de: haiiiiiiiii....  Negative      0  \n",
       "160771  7bc167d759d9c56d43d1d46575433d35: hey 169b2106...  Positive      0  \n",
       "160772  a5b6dda9425e1d67e37432b48db51a57: anyone famil...  Negative      0  \n",
       "\n",
       "[160773 rows x 4 columns]"
      ]
     },
     "execution_count": 2,
     "metadata": {},
     "output_type": "execute_result"
    }
   ],
   "source": [
    "# load dataset\n",
    "dataset = pd.read_csv('data/dataset_eng.csv')\n",
    "dataset"
   ]
  },
  {
   "cell_type": "code",
   "execution_count": 3,
   "id": "8c089b83-3047-4636-a2d0-9e9a716c0c7f",
   "metadata": {},
   "outputs": [
    {
     "name": "stdout",
     "output_type": "stream",
     "text": [
      "Grooming_conversations 5753\n"
     ]
    }
   ],
   "source": [
    "print('Grooming_conversations', dataset[dataset['label']==1].shape[0])"
   ]
  },
  {
   "cell_type": "markdown",
   "id": "08fc3ccf-d9bd-4616-b33e-9dc9b8b613b6",
   "metadata": {},
   "source": [
    "## Baseline SVM"
   ]
  },
  {
   "cell_type": "code",
   "execution_count": 4,
   "id": "311e3f32-15de-4073-9ba4-1070ad4ecbb0",
   "metadata": {},
   "outputs": [],
   "source": [
    "from sklearn.model_selection import train_test_split\n",
    "from sklearn.svm import SVC\n",
    "from sklearn.metrics import classification_report"
   ]
  },
  {
   "cell_type": "code",
   "execution_count": 5,
   "id": "0f0fc66d-cc92-4bdc-9433-5b57f16087c2",
   "metadata": {},
   "outputs": [],
   "source": [
    "# split into training and testing dataset\n",
    "train, test = train_test_split(dataset, test_size=0.3, random_state=42)"
   ]
  },
  {
   "cell_type": "code",
   "execution_count": 6,
   "id": "3548935a-e534-4b23-9f8d-7932f39a3a05",
   "metadata": {},
   "outputs": [],
   "source": [
    "# define X and y\n",
    "X_train = train['text']\n",
    "y_train = train['label']\n",
    "\n",
    "X_test = test['text']\n",
    "y_test = test['label']"
   ]
  },
  {
   "cell_type": "code",
   "execution_count": 7,
   "id": "2e1156bc-eff4-4f4b-a988-8d9e23ac023f",
   "metadata": {},
   "outputs": [],
   "source": [
    "# import for vectorization\n",
    "from sklearn.feature_extraction.text import TfidfVectorizer"
   ]
  },
  {
   "cell_type": "code",
   "execution_count": 8,
   "id": "fd1a261d-aefa-4e17-89c8-e7a6f674a9bf",
   "metadata": {},
   "outputs": [],
   "source": [
    "# vectorize\n",
    "vectorizer = TfidfVectorizer()\n",
    "X_train_vect = vectorizer.fit_transform(X_train)\n",
    "X_test_vect = vectorizer.transform(X_test)"
   ]
  },
  {
   "cell_type": "code",
   "execution_count": 9,
   "id": "fe54201d-a525-4fe0-a476-fd985f1a1b18",
   "metadata": {},
   "outputs": [
    {
     "data": {
      "text/plain": [
       "SVC(kernel='linear')"
      ]
     },
     "execution_count": 9,
     "metadata": {},
     "output_type": "execute_result"
    }
   ],
   "source": [
    "# define SVM\n",
    "svm = SVC(kernel='linear')\n",
    "svm.fit(X_train_vect, y_train)"
   ]
  },
  {
   "cell_type": "code",
   "execution_count": 10,
   "id": "60646f6d-ef8b-4a7e-bb94-f471183e23b1",
   "metadata": {},
   "outputs": [],
   "source": [
    "# predict \n",
    "y_pred = svm.predict(X_test_vect)"
   ]
  },
  {
   "cell_type": "code",
   "execution_count": 11,
   "id": "46144cb3-cc57-4edb-9c0a-20964fbc8506",
   "metadata": {},
   "outputs": [
    {
     "name": "stdout",
     "output_type": "stream",
     "text": [
      "              precision    recall  f1-score   support\n",
      "\n",
      "           0       1.00      1.00      1.00     46544\n",
      "           1       0.90      0.97      0.94      1688\n",
      "\n",
      "    accuracy                           1.00     48232\n",
      "   macro avg       0.95      0.98      0.97     48232\n",
      "weighted avg       1.00      1.00      1.00     48232\n",
      "\n"
     ]
    }
   ],
   "source": [
    "print(classification_report(y_test, y_pred))"
   ]
  },
  {
   "cell_type": "code",
   "execution_count": 12,
   "id": "884b41bc-0d9b-413b-9e88-194a43626a59",
   "metadata": {},
   "outputs": [
    {
     "name": "stdout",
     "output_type": "stream",
     "text": [
      "94918     868885a424ff7e7a90251a07099f7150: hii 868885a4...\n",
      "44073     8bb86493a2f4ac9cd6d2c19062865829: hi 520c8494c...\n",
      "137179    826e428ecb6c7c2a2695f0cb1b711756: hi b950e1248...\n",
      "155096    a6d5de9b5e00b181fc3be41fcd94953b: you there i ...\n",
      "68283     e58d1ff65d38573b2e8d46d6880e7e16: hi 0428e454f...\n",
      "                                ...                        \n",
      "35221     7aca8e54bb10bb50065a9ff263288054: hi' 4d63e775...\n",
      "104657    9377eedaee855e765dc252c00a1e0802: hello 313835...\n",
      "9660      120d2a9ae0d4c82283bc605fc35cdf67: oyoooooooooo...\n",
      "3826      05859fed5e719b252e718eacd08d8821: hi 1649b06bc...\n",
      "143829    e159cd65554bbed87970a2685f194940: hello 5281d6...\n",
      "Name: text, Length: 221, dtype: object\n"
     ]
    }
   ],
   "source": [
    "# identify misclassified instances\n",
    "misclassified = X_test[y_pred != y_test]\n",
    "\n",
    "# add the true and predicted labels\n",
    "truelabels = y_test[y_pred != y_test]\n",
    "predictedlabels = y_pred[y_pred != y_test]\n",
    "print(misclassified)\n",
    "misclassified_base = pd.DataFrame(misclassified)\n",
    "misclassified_base['True label'] = truelabels\n",
    "misclassified_base['Predicted label'] = predictedlabels"
   ]
  },
  {
   "cell_type": "markdown",
   "id": "b2e2f0ad-c7a5-4cc0-b32f-ea9994c5c92b",
   "metadata": {},
   "source": [
    "## Sentiments"
   ]
  },
  {
   "cell_type": "code",
   "execution_count": 13,
   "id": "11329204-3d72-4e12-863c-ef53f09ee96a",
   "metadata": {},
   "outputs": [],
   "source": [
    "# split into three datasets\n",
    "# non_grooming\n",
    "df_rest = dataset[dataset['label'] == 0]\n",
    "df_grooming = dataset[dataset['label'] == 1]\n",
    "# positive\n",
    "df_positive = df_grooming[df_grooming['sentiment'] == 'Positive']\n",
    "# negative \n",
    "df_negative = df_grooming[df_grooming['sentiment'] == 'Negative']"
   ]
  },
  {
   "cell_type": "markdown",
   "id": "f00ea69d-0790-4213-9972-3ae365898673",
   "metadata": {},
   "source": [
    "### Positive Tested"
   ]
  },
  {
   "cell_type": "code",
   "execution_count": 14,
   "id": "6c518012-8b69-44c7-a029-ac4aa4054afb",
   "metadata": {},
   "outputs": [],
   "source": [
    "# split non-grooming into train and test\n",
    "df_rest_train, df_rest_test = train_test_split(df_rest, test_size=0.3, random_state=42)\n",
    "# split grooming pos into train and test\n",
    "df_pos_train, df_pos_test = train_test_split(df_positive, test_size=0.3, random_state=42)\n",
    "# split grooming pos into train and test\n",
    "df_neg_train, df_neg_test = train_test_split(df_negative, test_size=0.3, random_state=42)"
   ]
  },
  {
   "cell_type": "code",
   "execution_count": 15,
   "id": "88c25965-8441-4202-b036-08248a1b2d1e",
   "metadata": {},
   "outputs": [],
   "source": [
    "# train data is non-grooming and positive sentiment and negative sentiment\n",
    "train_data = pd.concat([df_pos_train, df_neg_train, df_rest_train], axis=0)\n",
    "# test data is non-grooming and positive sentiment\n",
    "test_data = pd.concat([df_pos_test, df_rest_test], axis=0)"
   ]
  },
  {
   "cell_type": "code",
   "execution_count": 16,
   "id": "81df3efa-16b5-4a2f-a5ef-55631b6f4305",
   "metadata": {},
   "outputs": [],
   "source": [
    "# define X and y\n",
    "X_train = train_data['text']\n",
    "y_train = train_data['label']\n",
    "\n",
    "X_test = test_data['text']\n",
    "y_test = test_data['label']"
   ]
  },
  {
   "cell_type": "code",
   "execution_count": 17,
   "id": "4eeb15d3-d5e1-4245-a618-5d8cdb63100d",
   "metadata": {},
   "outputs": [],
   "source": [
    "# vectorize\n",
    "vectorizer = TfidfVectorizer()\n",
    "X_train_vect = vectorizer.fit_transform(X_train)\n",
    "X_test_vect = vectorizer.transform(X_test)"
   ]
  },
  {
   "cell_type": "code",
   "execution_count": 18,
   "id": "4bc65471-fe34-49c1-8ff7-0bfdc5e515a7",
   "metadata": {},
   "outputs": [
    {
     "data": {
      "text/plain": [
       "SVC(kernel='linear')"
      ]
     },
     "execution_count": 18,
     "metadata": {},
     "output_type": "execute_result"
    }
   ],
   "source": [
    "# define SVM\n",
    "svm = SVC(kernel='linear') \n",
    "svm.fit(X_train_vect, y_train)"
   ]
  },
  {
   "cell_type": "code",
   "execution_count": 19,
   "id": "a5a1eac0-97c6-42ba-a344-28d10d90f0e4",
   "metadata": {},
   "outputs": [],
   "source": [
    "# predict\n",
    "y_pred = svm.predict(X_test_vect)"
   ]
  },
  {
   "cell_type": "code",
   "execution_count": 20,
   "id": "78b7f2c5-f7e6-4c50-b4a4-c2c172dfb800",
   "metadata": {},
   "outputs": [
    {
     "name": "stdout",
     "output_type": "stream",
     "text": [
      "              precision    recall  f1-score   support\n",
      "\n",
      "           0       1.00      1.00      1.00     46506\n",
      "           1       0.83      0.97      0.89       809\n",
      "\n",
      "    accuracy                           1.00     47315\n",
      "   macro avg       0.91      0.98      0.95     47315\n",
      "weighted avg       1.00      1.00      1.00     47315\n",
      "\n"
     ]
    }
   ],
   "source": [
    "print(classification_report(y_test, y_pred))"
   ]
  },
  {
   "cell_type": "code",
   "execution_count": 21,
   "id": "555726bf-4726-462f-b538-90560f84189a",
   "metadata": {},
   "outputs": [],
   "source": [
    "# identify misclassified instances\n",
    "misclassified= X_test[y_pred != y_test]\n",
    "\n",
    "# add the true and predicted labels\n",
    "truelabels = y_test[y_pred != y_test]\n",
    "predictedlabels = y_pred[y_pred != y_test]\n",
    "misclassified_ptest = pd.DataFrame(misclassified)\n",
    "misclassified_ptest['True label'] = truelabels\n",
    "misclassified_ptest['Predicted label'] = predictedlabels"
   ]
  },
  {
   "cell_type": "markdown",
   "id": "23b11848-a536-4dff-853b-aa590988da89",
   "metadata": {},
   "source": [
    "### Negative Tested"
   ]
  },
  {
   "cell_type": "code",
   "execution_count": 22,
   "id": "5bb846b4-59a4-4f48-9708-7ac0e9a53fd4",
   "metadata": {},
   "outputs": [
    {
     "name": "stdout",
     "output_type": "stream",
     "text": [
      "              precision    recall  f1-score   support\n",
      "\n",
      "           0       1.00      1.00      1.00     46506\n",
      "           1       0.84      0.96      0.90       918\n",
      "\n",
      "    accuracy                           1.00     47424\n",
      "   macro avg       0.92      0.98      0.95     47424\n",
      "weighted avg       1.00      1.00      1.00     47424\n",
      "\n"
     ]
    }
   ],
   "source": [
    "# test data is non-grooming and negative sentiment\n",
    "test_data = pd.concat([df_neg_test, df_rest_test], axis=0)\n",
    "# define X and y\n",
    "X_test = test_data['text']\n",
    "y_test = test_data['label']\n",
    "# vectorize\n",
    "vectorizer = TfidfVectorizer()\n",
    "X_train_vect = vectorizer.fit_transform(X_train)\n",
    "X_test_vect = vectorizer.transform(X_test)\n",
    "# predict\n",
    "y_pred = svm.predict(X_test_vect)\n",
    "print(classification_report(y_test, y_pred))\n"
   ]
  },
  {
   "cell_type": "code",
   "execution_count": 23,
   "id": "8f044d3c-0d56-4ee1-9205-2184ccdf9f17",
   "metadata": {},
   "outputs": [],
   "source": [
    "# identify misclassified instances\n",
    "misclassified= X_test[y_pred != y_test]\n",
    "\n",
    "# add the true and predicted labels\n",
    "truelabels = y_test[y_pred != y_test]\n",
    "predictedlabels = y_pred[y_pred != y_test]\n",
    "misclassified_ntest = pd.DataFrame(misclassified)\n",
    "misclassified_ntest['True label'] = truelabels\n",
    "misclassified_ntest['Predicted label'] = predictedlabels"
   ]
  },
  {
   "cell_type": "markdown",
   "id": "c02b4d97-9a19-4074-8c8e-fd93f5c1781c",
   "metadata": {},
   "source": [
    "### Positive Trained"
   ]
  },
  {
   "cell_type": "code",
   "execution_count": 24,
   "id": "b0338841-373a-4d25-b082-af7d56db3451",
   "metadata": {},
   "outputs": [],
   "source": [
    "# train data is non-grooming and positive sentiment\n",
    "train_data = pd.concat([df_positive, df_rest_train], axis=0)\n",
    "# test data is non-grooming and negative sentiment\n",
    "test_data = pd.concat([df_negative, df_rest_test], axis=0)"
   ]
  },
  {
   "cell_type": "code",
   "execution_count": 25,
   "id": "16063b2e-b735-41a2-a7cf-048eef21e3b6",
   "metadata": {},
   "outputs": [],
   "source": [
    "# define X and y\n",
    "X_train = train_data['text']\n",
    "y_train = train_data['label']\n",
    "\n",
    "X_test = test_data['text']\n",
    "y_test = test_data['label']"
   ]
  },
  {
   "cell_type": "code",
   "execution_count": 26,
   "id": "bde7a4ab-95eb-41d1-a90c-d57cbe52619c",
   "metadata": {},
   "outputs": [],
   "source": [
    "# vectorize\n",
    "vectorizer = TfidfVectorizer()\n",
    "X_train_vect = vectorizer.fit_transform(X_train)\n",
    "X_test_vect = vectorizer.transform(X_test)"
   ]
  },
  {
   "cell_type": "code",
   "execution_count": 27,
   "id": "c78a5e20-527e-4d15-a267-9bf665b8967f",
   "metadata": {},
   "outputs": [
    {
     "data": {
      "text/plain": [
       "SVC(kernel='linear')"
      ]
     },
     "execution_count": 27,
     "metadata": {},
     "output_type": "execute_result"
    }
   ],
   "source": [
    "# define SVM\n",
    "svm = SVC(kernel='linear') \n",
    "svm.fit(X_train_vect, y_train)"
   ]
  },
  {
   "cell_type": "code",
   "execution_count": 28,
   "id": "3929f895-15ae-4425-a47a-b9799eb8ce35",
   "metadata": {},
   "outputs": [],
   "source": [
    "# predict\n",
    "y_pred = svm.predict(X_test_vect)"
   ]
  },
  {
   "cell_type": "code",
   "execution_count": 29,
   "id": "2a30eb5d-5847-4b0f-95e5-6e7e74be746b",
   "metadata": {},
   "outputs": [
    {
     "name": "stdout",
     "output_type": "stream",
     "text": [
      "              precision    recall  f1-score   support\n",
      "\n",
      "           0       0.99      1.00      1.00     46506\n",
      "           1       0.97      0.89      0.93      3058\n",
      "\n",
      "    accuracy                           0.99     49564\n",
      "   macro avg       0.98      0.94      0.96     49564\n",
      "weighted avg       0.99      0.99      0.99     49564\n",
      "\n"
     ]
    }
   ],
   "source": [
    "print(classification_report(y_test, y_pred))"
   ]
  },
  {
   "cell_type": "code",
   "execution_count": 30,
   "id": "d604f997-b980-4078-beee-1377417e4df0",
   "metadata": {},
   "outputs": [
    {
     "name": "stdout",
     "output_type": "stream",
     "text": [
      "1056     426d0b70843d16c615f6e754c5b718d1: hi 36b5f84e4...\n",
      "1445     fb1d96b82911c7e1561bcd24eedd8bda: hi fb1d96b82...\n",
      "1677     95e6690e70956f690f4dd7faa80d1054: :) d9a3b807f...\n",
      "2389     fe784e376f0fec7691b114f16d7f953e: if u wouldnt...\n",
      "2767     4982b68761043e693da736df5852a7c5: do u know ur...\n",
      "                               ...                        \n",
      "72283    220840d2c4fda35d80b9e3855263d7b9: no my parent...\n",
      "94384    0f0c160cf83143bfb4969214a729543d: hi 8a6e288a0...\n",
      "46270    8c4078d55ba07096949e82f0993a423b: i cant meet ...\n",
      "56665    0d2a55796774a59c0af915376f6ca962: hi 15c217074...\n",
      "26830    2df46ad50ba97fbc91c9517e4b877364: hi 2df46ad50...\n",
      "Name: text, Length: 421, dtype: object\n"
     ]
    }
   ],
   "source": [
    "# identify misclassified instances\n",
    "misclassified= X_test[y_pred != y_test]\n",
    "\n",
    "# add the true and predicted labels\n",
    "truelabels = y_test[y_pred != y_test]\n",
    "predictedlabels = y_pred[y_pred != y_test]\n",
    "print(misclassified)\n",
    "misclassified_pt = pd.DataFrame(misclassified)\n",
    "misclassified_pt['True label'] = truelabels\n",
    "misclassified_pt['Predicted label'] = predictedlabels"
   ]
  },
  {
   "cell_type": "markdown",
   "id": "dcfca6cb-8138-40f8-992f-1ab663a63aca",
   "metadata": {},
   "source": [
    "### Negative Trained"
   ]
  },
  {
   "cell_type": "code",
   "execution_count": 31,
   "id": "13b63dfa-9659-4adb-bca9-cfef19c2cbfe",
   "metadata": {},
   "outputs": [],
   "source": [
    "# train data is non-grooming and negative sentiment\n",
    "train_data = pd.concat([df_negative, df_rest_train], axis=0)\n",
    "# test data is non-grooming and positive sentiment\n",
    "test_data = pd.concat([df_positive, df_rest_test], axis=0)"
   ]
  },
  {
   "cell_type": "code",
   "execution_count": 32,
   "id": "be4786ea-78eb-4597-9a6e-0bc3c53e2b78",
   "metadata": {},
   "outputs": [],
   "source": [
    "# define X and y\n",
    "X_train = train_data['text']\n",
    "y_train = train_data['label']\n",
    "\n",
    "X_test = test_data['text']\n",
    "y_test = test_data['label']"
   ]
  },
  {
   "cell_type": "code",
   "execution_count": 33,
   "id": "874a8149-07dd-4fa8-be99-2b0f2fd3c038",
   "metadata": {},
   "outputs": [],
   "source": [
    "# vectorize\n",
    "vectorizer = TfidfVectorizer()\n",
    "X_train_vect = vectorizer.fit_transform(X_train)\n",
    "X_test_vect = vectorizer.transform(X_test)"
   ]
  },
  {
   "cell_type": "code",
   "execution_count": 34,
   "id": "48ef5baa-2258-4ccf-ae94-ee83349e15fa",
   "metadata": {},
   "outputs": [
    {
     "data": {
      "text/plain": [
       "SVC(kernel='linear')"
      ]
     },
     "execution_count": 34,
     "metadata": {},
     "output_type": "execute_result"
    }
   ],
   "source": [
    "# define SVM\n",
    "svm = SVC(kernel='linear') \n",
    "svm.fit(X_train_vect, y_train)"
   ]
  },
  {
   "cell_type": "code",
   "execution_count": 35,
   "id": "5cb25837-7ec4-4d02-ba7c-3be979e65db8",
   "metadata": {},
   "outputs": [],
   "source": [
    "# predict\n",
    "y_pred = svm.predict(X_test_vect)"
   ]
  },
  {
   "cell_type": "code",
   "execution_count": 36,
   "id": "e7b1a23d-d493-4fff-af73-5242378c8b76",
   "metadata": {},
   "outputs": [
    {
     "name": "stdout",
     "output_type": "stream",
     "text": [
      "              precision    recall  f1-score   support\n",
      "\n",
      "           0       1.00      1.00      1.00     46506\n",
      "           1       0.95      0.93      0.94      2695\n",
      "\n",
      "    accuracy                           0.99     49201\n",
      "   macro avg       0.97      0.96      0.97     49201\n",
      "weighted avg       0.99      0.99      0.99     49201\n",
      "\n"
     ]
    }
   ],
   "source": [
    "print(classification_report(y_test, y_pred))"
   ]
  },
  {
   "cell_type": "code",
   "execution_count": 37,
   "id": "ddf00b13-ed63-48ee-9353-fb08c136f9ad",
   "metadata": {},
   "outputs": [
    {
     "name": "stdout",
     "output_type": "stream",
     "text": [
      "1240       398cab8240d8a5a9f5f201115c0337c6: hey there baby\n",
      "2177      398cab8240d8a5a9f5f201115c0337c6: hey there 8f...\n",
      "2954      ea83f356e7a3329c1f9982649127f07b: some guy was...\n",
      "4257      5c91acf8c2808994d9681a0ee5d28ea3: where did yo...\n",
      "5166      b8931a8b614fb54f6051ffc75f39db29: heather, are...\n",
      "                                ...                        \n",
      "72283     220840d2c4fda35d80b9e3855263d7b9: no my parent...\n",
      "105249    7ca517cbd80d30aaf838cdb7f0b6e416: hey 7620a4f7...\n",
      "147081    dea3f8b63c53a9ad473ca562d70b7c2c: hi dd951f65f...\n",
      "94384     0f0c160cf83143bfb4969214a729543d: hi 8a6e288a0...\n",
      "56665     0d2a55796774a59c0af915376f6ca962: hi 15c217074...\n",
      "Name: text, Length: 343, dtype: object\n"
     ]
    }
   ],
   "source": [
    "# identify misclassified instances\n",
    "misclassified= X_test[y_pred != y_test]\n",
    "\n",
    "# add the true and predicted labels \n",
    "truelabels = y_test[y_pred != y_test]\n",
    "predictedlabels = y_pred[y_pred != y_test]\n",
    "print(misclassified)\n",
    "misclassified_nt = pd.DataFrame(misclassified)\n",
    "misclassified_nt['True label'] = truelabels\n",
    "misclassified_nt['Predicted label'] = predictedlabels"
   ]
  },
  {
   "cell_type": "markdown",
   "id": "9a356771-0efa-40a7-ba2b-081e6cc014e4",
   "metadata": {},
   "source": [
    "## Positive Trained and Tested"
   ]
  },
  {
   "cell_type": "code",
   "execution_count": 38,
   "id": "a21c96fa-0fdb-4320-8e08-716a9dfd2bb8",
   "metadata": {},
   "outputs": [],
   "source": [
    "# split into train and test\n",
    "df_pos_train, df_pos_test = train_test_split(df_positive, test_size=0.3, random_state=42)\n",
    "# train data is non-grooming and positive sentiment\n",
    "train_data = pd.concat([df_pos_train, df_rest_train], axis=0)\n",
    "# test data is non-grooming and positive sentiment\n",
    "test_data = pd.concat([df_pos_test, df_rest_test], axis=0)"
   ]
  },
  {
   "cell_type": "code",
   "execution_count": 39,
   "id": "de1e117e-ce2b-4db4-bef6-7f4c7fc3a9b5",
   "metadata": {},
   "outputs": [],
   "source": [
    "# define X and y\n",
    "X_train = train_data['text']\n",
    "y_train = train_data['label']\n",
    "\n",
    "X_test = test_data['text']\n",
    "y_test = test_data['label']"
   ]
  },
  {
   "cell_type": "code",
   "execution_count": 40,
   "id": "13cbfc90-db6d-4969-875a-23c8a57eb361",
   "metadata": {},
   "outputs": [],
   "source": [
    "# vectorize\n",
    "vectorizer = TfidfVectorizer()\n",
    "X_train_vect = vectorizer.fit_transform(X_train)\n",
    "X_test_vect = vectorizer.transform(X_test)"
   ]
  },
  {
   "cell_type": "code",
   "execution_count": 41,
   "id": "23a80f6e-5aa3-4892-b013-cf9a8e0cf13c",
   "metadata": {},
   "outputs": [
    {
     "data": {
      "text/plain": [
       "SVC(kernel='linear')"
      ]
     },
     "execution_count": 41,
     "metadata": {},
     "output_type": "execute_result"
    }
   ],
   "source": [
    "# define SVM\n",
    "svm = SVC(kernel='linear') \n",
    "svm.fit(X_train_vect, y_train)"
   ]
  },
  {
   "cell_type": "code",
   "execution_count": 42,
   "id": "d8fa4f73-8c5e-4f4d-9aea-bd3d09f0654d",
   "metadata": {},
   "outputs": [],
   "source": [
    "# predict\n",
    "y_pred = svm.predict(X_test_vect)"
   ]
  },
  {
   "cell_type": "code",
   "execution_count": 43,
   "id": "ff3c1a66-92bc-464a-87ae-b1f2d6a43ab1",
   "metadata": {},
   "outputs": [
    {
     "name": "stdout",
     "output_type": "stream",
     "text": [
      "              precision    recall  f1-score   support\n",
      "\n",
      "           0       1.00      1.00      1.00     46506\n",
      "           1       0.95      0.90      0.92       809\n",
      "\n",
      "    accuracy                           1.00     47315\n",
      "   macro avg       0.97      0.95      0.96     47315\n",
      "weighted avg       1.00      1.00      1.00     47315\n",
      "\n"
     ]
    }
   ],
   "source": [
    "print(classification_report(y_test, y_pred))"
   ]
  },
  {
   "cell_type": "code",
   "execution_count": 44,
   "id": "3ab81a2f-f27b-49b5-86bc-7e50bbf39926",
   "metadata": {},
   "outputs": [
    {
     "name": "stdout",
     "output_type": "stream",
     "text": [
      "87938     5a41bf6d7766977c25b0b6a97e4e1d58: hey baby i m...\n",
      "68786     201a9319a4df100cb91e81644345f3b2: yeah, im on ...\n",
      "132722            dacf132a918dc8a6ad5206a92e262ea4: you on?\n",
      "71705     c420f4c2451ed50149332783dd90db59: hey let me k...\n",
      "116780            ad3403c013a364bbde185b702aa5735d: u there\n",
      "                                ...                        \n",
      "46532     20f1b3a80d54187b48a7f75a798070ce: i love you y...\n",
      "141811    eb6309bf2390a9c855eb32497b7fd6dd: hey 3989cf31...\n",
      "71501     1cbe227ab5505cdcc648cf79be55838a: hiii..! f938...\n",
      "94384     0f0c160cf83143bfb4969214a729543d: hi 8a6e288a0...\n",
      "26830     2df46ad50ba97fbc91c9517e4b877364: hi 2df46ad50...\n",
      "Name: text, Length: 119, dtype: object\n"
     ]
    }
   ],
   "source": [
    "# identify misclassified instances\n",
    "misclassified= X_test[y_pred != y_test]\n",
    "\n",
    "# add the true and predicted labels\n",
    "truelabels = y_test[y_pred != y_test]\n",
    "predictedlabels = y_pred[y_pred != y_test]\n",
    "print(misclassified)\n",
    "misclassified_ptt = pd.DataFrame(misclassified)\n",
    "misclassified_ptt['True label'] = truelabels\n",
    "misclassified_ptt['Predicted label'] = predictedlabels"
   ]
  },
  {
   "cell_type": "markdown",
   "id": "e380ccbd-827e-4695-8b20-df5f78f1dc28",
   "metadata": {},
   "source": [
    "### Negative Trained and Tested"
   ]
  },
  {
   "cell_type": "code",
   "execution_count": 45,
   "id": "84291bfd-3458-444b-b85b-f7c80bc64706",
   "metadata": {},
   "outputs": [],
   "source": [
    "# split into train and test\n",
    "df_neg_train, df_neg_test = train_test_split(df_negative, test_size=0.3, random_state=42)\n",
    "# train data is non-grooming and negative sentiment\n",
    "train_data = pd.concat([df_neg_train, df_rest_train], axis=0)\n",
    "# test data is non-grooming and negative sentiment\n",
    "test_data = pd.concat([df_neg_test, df_rest_test], axis=0)"
   ]
  },
  {
   "cell_type": "code",
   "execution_count": 46,
   "id": "88bc68ec-b6a9-41a1-b5f2-82f21700f36b",
   "metadata": {},
   "outputs": [],
   "source": [
    "# define X and y\n",
    "X_train = train_data['text']\n",
    "y_train = train_data['label']\n",
    "\n",
    "X_test = test_data['text']\n",
    "y_test = test_data['label']"
   ]
  },
  {
   "cell_type": "code",
   "execution_count": 47,
   "id": "0b1117e1-7fac-4280-b73e-21d101eb2dc3",
   "metadata": {},
   "outputs": [],
   "source": [
    "# vectorize\n",
    "vectorizer = TfidfVectorizer()\n",
    "X_train_vect = vectorizer.fit_transform(X_train)\n",
    "X_test_vect = vectorizer.transform(X_test)"
   ]
  },
  {
   "cell_type": "code",
   "execution_count": 48,
   "id": "ecf3dbb9-d6a3-4606-98eb-69b0e9e741b6",
   "metadata": {},
   "outputs": [
    {
     "data": {
      "text/plain": [
       "SVC(kernel='linear')"
      ]
     },
     "execution_count": 48,
     "metadata": {},
     "output_type": "execute_result"
    }
   ],
   "source": [
    "# define SVM\n",
    "svm = SVC(kernel='linear') \n",
    "svm.fit(X_train_vect, y_train)"
   ]
  },
  {
   "cell_type": "code",
   "execution_count": 49,
   "id": "d82714f5-5d7f-4519-925b-d507c26549d0",
   "metadata": {},
   "outputs": [],
   "source": [
    "# predict\n",
    "y_pred = svm.predict(X_test_vect)"
   ]
  },
  {
   "cell_type": "code",
   "execution_count": 50,
   "id": "8ecc5b64-82f7-4547-9bc5-78c9a132ca2c",
   "metadata": {},
   "outputs": [
    {
     "name": "stdout",
     "output_type": "stream",
     "text": [
      "              precision    recall  f1-score   support\n",
      "\n",
      "           0       1.00      1.00      1.00     46506\n",
      "           1       0.88      0.92      0.90       918\n",
      "\n",
      "    accuracy                           1.00     47424\n",
      "   macro avg       0.94      0.96      0.95     47424\n",
      "weighted avg       1.00      1.00      1.00     47424\n",
      "\n"
     ]
    }
   ],
   "source": [
    "print(classification_report(y_test, y_pred))"
   ]
  },
  {
   "cell_type": "code",
   "execution_count": 51,
   "id": "0b438a8f-4d8f-474b-b003-297421d75e71",
   "metadata": {},
   "outputs": [
    {
     "name": "stdout",
     "output_type": "stream",
     "text": [
      "93535     2a1ac47332661b61d943d3a4e08dda5a: hey whats up...\n",
      "149385    5a91e880aa9a503098926794b7101a53: whats up 404...\n",
      "26697     eb38e8279981c9f04dd6641cfdcf7200: no........i ...\n",
      "79671     993ecd27ac2d977fe189d4456ffcae37: hey mo dd1b6...\n",
      "131111    f7ba507db5b5b1150eabf5707f0334dd: u there yet?...\n",
      "                                ...                        \n",
      "8892      7dfb35eb7e30f2ac72e2808256087e08: heyy 8f01351...\n",
      "118693    35bed363ff480c9c085919cbf494e15f: hey fb15b78d...\n",
      "72283     220840d2c4fda35d80b9e3855263d7b9: no my parent...\n",
      "94384     0f0c160cf83143bfb4969214a729543d: hi 8a6e288a0...\n",
      "56665     0d2a55796774a59c0af915376f6ca962: hi 15c217074...\n",
      "Name: text, Length: 191, dtype: object\n"
     ]
    }
   ],
   "source": [
    "# identify misclassified instances\n",
    "misclassified= X_test[y_pred != y_test]\n",
    "\n",
    "# add the true and predicted labels\n",
    "truelabels = y_test[y_pred != y_test]\n",
    "predictedlabels = y_pred[y_pred != y_test]\n",
    "print(misclassified)\n",
    "misclassified_ntt = pd.DataFrame(misclassified)\n",
    "misclassified_ntt['True label'] = truelabels\n",
    "misclassified_ntt['Predicted label'] = predictedlabels"
   ]
  },
  {
   "cell_type": "markdown",
   "id": "e4953c7c-23c6-4177-9a46-7e9643b1fca6",
   "metadata": {},
   "source": [
    "## Analyzing false predictions"
   ]
  },
  {
   "cell_type": "markdown",
   "id": "217e5c8b-83be-4265-95ee-bf9da56522d5",
   "metadata": {},
   "source": [
    "### Baseline"
   ]
  },
  {
   "cell_type": "code",
   "execution_count": 52,
   "id": "c0ce6268-4cc2-46d5-9ac3-41e6ea2c9c53",
   "metadata": {},
   "outputs": [],
   "source": [
    "fp_base = misclassified_base[misclassified_base['True label'] == 0]\n",
    "fn_base = misclassified_base[misclassified_base['True label'] == 1]"
   ]
  },
  {
   "cell_type": "code",
   "execution_count": 53,
   "id": "68fd2796-6c3a-40b3-9e4d-c23308c3be50",
   "metadata": {},
   "outputs": [
    {
     "name": "stdout",
     "output_type": "stream",
     "text": [
      "False Positives labeled as 'Positive': 40\n",
      "False Positives labeled as 'Negative': 134\n",
      "False Negatives labeled as 'Positive': 18\n",
      "False Negatives labeled as 'Negative': 29\n"
     ]
    }
   ],
   "source": [
    "sentiments = dataset.loc[fp_base.index.to_list(), 'sentiment']\n",
    "sentiments = pd.DataFrame(sentiments)\n",
    "print(f\"False Positives labeled as 'Positive': {sentiments[sentiments['sentiment'] == 'Positive'].shape[0]}\")\n",
    "print(f\"False Positives labeled as 'Negative': {sentiments[sentiments['sentiment'] == 'Negative'].shape[0]}\")\n",
    "sentiments = dataset.loc[fn_base.index.to_list(), 'sentiment']\n",
    "sentiments = pd.DataFrame(sentiments)\n",
    "print(f\"False Negatives labeled as 'Positive': {sentiments[sentiments['sentiment'] == 'Positive'].shape[0]}\")\n",
    "print(f\"False Negatives labeled as 'Negative': {sentiments[sentiments['sentiment'] == 'Negative'].shape[0]}\")"
   ]
  },
  {
   "cell_type": "markdown",
   "id": "23d32bae-7580-480e-859b-59bbb04d194d",
   "metadata": {},
   "source": [
    "### Positive Trained"
   ]
  },
  {
   "cell_type": "code",
   "execution_count": 54,
   "id": "c70737de-e6dd-4ec8-ae30-2c93b88b6198",
   "metadata": {},
   "outputs": [
    {
     "name": "stdout",
     "output_type": "stream",
     "text": [
      "False Positives labeled as 'Positive': 29\n",
      "False Positives labeled as 'Negative': 54\n",
      "False Negatives labeled as 'Positive': 0\n",
      "False Negatives labeled as 'Negative': 338\n"
     ]
    }
   ],
   "source": [
    "fp_pt = misclassified_pt[misclassified_pt['True label'] == 0]\n",
    "fn_pt = misclassified_pt[misclassified_pt['True label'] == 1]\n",
    "sentiments = dataset.loc[fp_pt.index.to_list(), 'sentiment']\n",
    "sentiments = pd.DataFrame(sentiments)\n",
    "print(f\"False Positives labeled as 'Positive': {sentiments[sentiments['sentiment'] == 'Positive'].shape[0]}\")\n",
    "print(f\"False Positives labeled as 'Negative': {sentiments[sentiments['sentiment'] == 'Negative'].shape[0]}\")\n",
    "sentiments = dataset.loc[fn_pt.index.to_list(), 'sentiment']\n",
    "sentiments = pd.DataFrame(sentiments)\n",
    "print(f\"False Negatives labeled as 'Positive': {sentiments[sentiments['sentiment'] == 'Positive'].shape[0]}\")\n",
    "print(f\"False Negatives labeled as 'Negative': {sentiments[sentiments['sentiment'] == 'Negative'].shape[0]}\")"
   ]
  },
  {
   "cell_type": "markdown",
   "id": "b898d293-05d4-4346-8f04-37e48507ed45",
   "metadata": {},
   "source": [
    "### Negative Trained"
   ]
  },
  {
   "cell_type": "code",
   "execution_count": 55,
   "id": "f625bb67-ce1d-4a34-ba42-974a062e8bce",
   "metadata": {},
   "outputs": [
    {
     "name": "stdout",
     "output_type": "stream",
     "text": [
      "False Positives labeled as 'Positive': 14\n",
      "False Positives labeled as 'Negative': 127\n",
      "False Negatives labeled as 'Positive': 202\n",
      "False Negatives labeled as 'Negative': 0\n"
     ]
    }
   ],
   "source": [
    "fp_nt = misclassified_nt[misclassified_nt['True label'] == 0]\n",
    "fn_nt = misclassified_nt[misclassified_nt['True label'] == 1]\n",
    "sentiments = dataset.loc[fp_nt.index.to_list(), 'sentiment']\n",
    "sentiments = pd.DataFrame(sentiments)\n",
    "print(f\"False Positives labeled as 'Positive': {sentiments[sentiments['sentiment'] == 'Positive'].shape[0]}\")\n",
    "print(f\"False Positives labeled as 'Negative': {sentiments[sentiments['sentiment'] == 'Negative'].shape[0]}\")\n",
    "sentiments = dataset.loc[fn_nt.index.to_list(), 'sentiment']\n",
    "sentiments = pd.DataFrame(sentiments)\n",
    "print(f\"False Negatives labeled as 'Positive': {sentiments[sentiments['sentiment'] == 'Positive'].shape[0]}\")\n",
    "print(f\"False Negatives labeled as 'Negative': {sentiments[sentiments['sentiment'] == 'Negative'].shape[0]}\")"
   ]
  },
  {
   "cell_type": "markdown",
   "id": "4d8387e6-fac5-4fea-8ba4-f0f4fc3d3481",
   "metadata": {},
   "source": [
    "### Positive Trained and Tested"
   ]
  },
  {
   "cell_type": "code",
   "execution_count": 56,
   "id": "bc71a0f9-6170-4355-b21e-fbaa20940680",
   "metadata": {},
   "outputs": [
    {
     "name": "stdout",
     "output_type": "stream",
     "text": [
      "False Positives labeled as 'Positive': 17\n",
      "False Positives labeled as 'Negative': 20\n",
      "False Negatives labeled as 'Positive': 82\n",
      "False Negatives labeled as 'Negative': 0\n"
     ]
    }
   ],
   "source": [
    "fp_ptt = misclassified_ptt[misclassified_ptt['True label'] == 0]\n",
    "fn_ptt = misclassified_ptt[misclassified_ptt['True label'] == 1]\n",
    "sentiments = dataset.loc[fp_ptt.index.to_list(), 'sentiment']\n",
    "sentiments = pd.DataFrame(sentiments)\n",
    "print(f\"False Positives labeled as 'Positive': {sentiments[sentiments['sentiment'] == 'Positive'].shape[0]}\")\n",
    "print(f\"False Positives labeled as 'Negative': {sentiments[sentiments['sentiment'] == 'Negative'].shape[0]}\")\n",
    "sentiments = dataset.loc[fn_ptt.index.to_list(), 'sentiment']\n",
    "sentiments = pd.DataFrame(sentiments)\n",
    "print(f\"False Negatives labeled as 'Positive': {sentiments[sentiments['sentiment'] == 'Positive'].shape[0]}\")\n",
    "print(f\"False Negatives labeled as 'Negative': {sentiments[sentiments['sentiment'] == 'Negative'].shape[0]}\")"
   ]
  },
  {
   "cell_type": "markdown",
   "id": "52a4bc71-ee44-4e6a-a8b4-d31219ba259c",
   "metadata": {},
   "source": [
    "### Negative Trained and Tested"
   ]
  },
  {
   "cell_type": "code",
   "execution_count": 57,
   "id": "a3a11120-c1c9-4162-b21c-d29126a5f980",
   "metadata": {},
   "outputs": [
    {
     "name": "stdout",
     "output_type": "stream",
     "text": [
      "False Positives labeled as 'Positive': 11\n",
      "False Positives labeled as 'Negative': 103\n",
      "False Negatives labeled as 'Positive': 0\n",
      "False Negatives labeled as 'Negative': 77\n"
     ]
    }
   ],
   "source": [
    "fp_ntt = misclassified_ntt[misclassified_ntt['True label'] == 0]\n",
    "fn_ntt = misclassified_ntt[misclassified_ntt['True label'] == 1]\n",
    "sentiments = dataset.loc[fp_ntt.index.to_list(), 'sentiment']\n",
    "sentiments = pd.DataFrame(sentiments)\n",
    "print(f\"False Positives labeled as 'Positive': {sentiments[sentiments['sentiment'] == 'Positive'].shape[0]}\")\n",
    "print(f\"False Positives labeled as 'Negative': {sentiments[sentiments['sentiment'] == 'Negative'].shape[0]}\")\n",
    "sentiments = dataset.loc[fn_ntt.index.to_list(), 'sentiment']\n",
    "sentiments = pd.DataFrame(sentiments)\n",
    "print(f\"False Negatives labeled as 'Positive': {sentiments[sentiments['sentiment'] == 'Positive'].shape[0]}\")\n",
    "print(f\"False Negatives labeled as 'Negative': {sentiments[sentiments['sentiment'] == 'Negative'].shape[0]}\")"
   ]
  },
  {
   "cell_type": "markdown",
   "id": "c54d6632-41d9-4ead-859e-e5eeea572285",
   "metadata": {},
   "source": [
    "### Positive Tested"
   ]
  },
  {
   "cell_type": "code",
   "execution_count": 58,
   "id": "38294d09-d339-4f4c-88e4-00c82cc792cb",
   "metadata": {},
   "outputs": [
    {
     "name": "stdout",
     "output_type": "stream",
     "text": [
      "False Positives labeled as 'Positive': 29\n",
      "False Positives labeled as 'Negative': 134\n",
      "False Negatives labeled as 'Positive': 26\n",
      "False Negatives labeled as 'Negative': 0\n"
     ]
    }
   ],
   "source": [
    "fp_ptest = misclassified_ptest[misclassified_ptest['True label'] == 0]\n",
    "fn_ptest = misclassified_ptest[misclassified_ptest['True label'] == 1]\n",
    "sentiments = dataset.loc[fp_ptest.index.to_list(), 'sentiment']\n",
    "sentiments = pd.DataFrame(sentiments)\n",
    "print(f\"False Positives labeled as 'Positive': {sentiments[sentiments['sentiment'] == 'Positive'].shape[0]}\")\n",
    "print(f\"False Positives labeled as 'Negative': {sentiments[sentiments['sentiment'] == 'Negative'].shape[0]}\")\n",
    "sentiments = dataset.loc[fn_ptest.index.to_list(), 'sentiment']\n",
    "sentiments = pd.DataFrame(sentiments)\n",
    "print(f\"False Negatives labeled as 'Positive': {sentiments[sentiments['sentiment'] == 'Positive'].shape[0]}\")\n",
    "print(f\"False Negatives labeled as 'Negative': {sentiments[sentiments['sentiment'] == 'Negative'].shape[0]}\")"
   ]
  },
  {
   "cell_type": "markdown",
   "id": "0c776601-143e-4b15-a35c-1920962d3443",
   "metadata": {},
   "source": [
    "### Negative Tested"
   ]
  },
  {
   "cell_type": "code",
   "execution_count": 59,
   "id": "ebeceb98-4494-464c-a76d-0c5597bcd69e",
   "metadata": {},
   "outputs": [
    {
     "name": "stdout",
     "output_type": "stream",
     "text": [
      "False Positives labeled as 'Positive': 29\n",
      "False Positives labeled as 'Negative': 134\n",
      "False Negatives labeled as 'Positive': 0\n",
      "False Negatives labeled as 'Negative': 36\n"
     ]
    }
   ],
   "source": [
    "fp_ntest = misclassified_ntest[misclassified_ntest['True label'] == 0]\n",
    "fn_ntest = misclassified_ntest[misclassified_ntest['True label'] == 1]\n",
    "sentiments = dataset.loc[fp_ntest.index.to_list(), 'sentiment']\n",
    "sentiments = pd.DataFrame(sentiments)\n",
    "print(f\"False Positives labeled as 'Positive': {sentiments[sentiments['sentiment'] == 'Positive'].shape[0]}\")\n",
    "print(f\"False Positives labeled as 'Negative': {sentiments[sentiments['sentiment'] == 'Negative'].shape[0]}\")\n",
    "sentiments = dataset.loc[fn_ntest.index.to_list(), 'sentiment']\n",
    "sentiments = pd.DataFrame(sentiments)\n",
    "print(f\"False Negatives labeled as 'Positive': {sentiments[sentiments['sentiment'] == 'Positive'].shape[0]}\")\n",
    "print(f\"False Negatives labeled as 'Negative': {sentiments[sentiments['sentiment'] == 'Negative'].shape[0]}\")"
   ]
  },
  {
   "cell_type": "markdown",
   "id": "5061ae0d",
   "metadata": {},
   "source": [
    "### Non-grooming"
   ]
  },
  {
   "cell_type": "code",
   "execution_count": 61,
   "id": "e7fd8ed1-948e-40c8-a41b-b745e434ef29",
   "metadata": {
    "scrolled": true
   },
   "outputs": [
    {
     "name": "stdout",
     "output_type": "stream",
     "text": [
      "Non-grooming Positive Tone: 40081\n",
      "Non-grooming Negative Tone: 114939\n",
      "Percentage Positive Tone: 0.25855373500193524\n",
      "Percentage Negative Tone: 0.7414462649980648\n"
     ]
    }
   ],
   "source": [
    "print(f\"Non-grooming Positive Tone: {df_rest[df_rest['sentiment']== 'Positive'].shape[0]}\")\n",
    "print(f\"Non-grooming Negative Tone: {df_rest[df_rest['sentiment']== 'Negative'].shape[0]}\")\n",
    "print(f\"Percentage Positive Tone: {df_rest[df_rest['sentiment']== 'Positive'].shape[0]/df_rest.shape[0]}\")\n",
    "print(f\"Percentage Negative Tone: {df_rest[df_rest['sentiment']== 'Negative'].shape[0]/df_rest.shape[0]}\")"
   ]
  }
 ],
 "metadata": {
  "kernelspec": {
   "display_name": "Python 3 (ipykernel)",
   "language": "python",
   "name": "python3"
  },
  "language_info": {
   "codemirror_mode": {
    "name": "ipython",
    "version": 3
   },
   "file_extension": ".py",
   "mimetype": "text/x-python",
   "name": "python",
   "nbconvert_exporter": "python",
   "pygments_lexer": "ipython3",
   "version": "3.8.10"
  }
 },
 "nbformat": 4,
 "nbformat_minor": 5
}
